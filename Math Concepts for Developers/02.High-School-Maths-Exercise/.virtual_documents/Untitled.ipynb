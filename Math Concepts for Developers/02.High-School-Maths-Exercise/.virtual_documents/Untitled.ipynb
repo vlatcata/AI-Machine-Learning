import numpy as np


import no
