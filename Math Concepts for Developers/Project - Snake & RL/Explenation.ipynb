{
 "cells": [
  {
   "cell_type": "markdown",
   "id": "c77f4f0a",
   "metadata": {},
   "source": [
    "Deep Q Learning model - Based on a Neural Network\n",
    "\n",
    "We use gradient descent to match the predicted Q-values to the result of those actions.\n",
    "The closer we get to 0, the better the model is performing.\n",
    "The goal is for the prediction to always match the result. That is achieved by getting the global minimum.\n",
    "\n",
    "$ Q(s, a) $ - *Action value function*\n",
    "\n",
    "Or said simply... *Expected cumulative reward from state **s** by taking action **a***.\n",
    "\n",
    "Where:\n",
    "\n",
    "Q = Quality of action\n",
    "\n",
    "s = state\n",
    "\n",
    "a = action\n",
    "\n",
    "$ Q^target(s, a) = R + \\gamma.((max(Q(s', a'))) / 2) $\n",
    "\n",
    "\n",
    "Each move the model outputs 3 possible actions.\n",
    "Then the agent picks the one with the highest Q-value.\n",
    "\n",
    "State - A vector of many bool values\n",
    "\n",
    "**Bellman Equation** for Double Q-Learning: $$ NewQ(s, a) = Q(s, a) + \\alpha[R(s, a) + \\gamma maxQ'(s', a') - Q(s, a)] $$\n",
    "\n",
    "We modify the base equation to reduce overestimation.\n",
    "\n",
    "Our loss function is $$(Q_{new} - Q)^2$$\n",
    "\n",
    "\n",
    "In pygame the axis work differently... instead of y growing by going up vertically, it grows down, this is done to mimic the pixels in our monitors."
   ]
  },
  {
   "cell_type": "markdown",
   "id": "4c0a5595",
   "metadata": {},
   "source": [
    "### Resources:\n",
    "\n",
    "https://www.youtube.com/watch?v=PJl4iabBEz0&list=PLfR10wejCzo_OL-6OsBV-4jAPnSncvZZH\n",
    "\n",
    "https://en.wikipedia.org/wiki/Reinforcement_learning\n",
    "\n",
    "https://www.geeksforgeeks.org/what-is-reinforcement-learning/\n",
    "\n",
    "https://www.geeksforgeeks.org/snake-game-in-python-using-pygame-module/\n",
    "\n",
    "https://pytorch.org/\n",
    "\n",
    "https://www.pygame.org/docs/\n",
    "\n",
    "\n",
    "And of course... **ChatGPT**"
   ]
  },
  {
   "cell_type": "markdown",
   "id": "589ae516",
   "metadata": {},
   "source": []
  }
 ],
 "metadata": {
  "kernelspec": {
   "display_name": "snake_game_env",
   "language": "python",
   "name": "python3"
  },
  "language_info": {
   "name": "python",
   "version": "3.12.7"
  }
 },
 "nbformat": 4,
 "nbformat_minor": 5
}
