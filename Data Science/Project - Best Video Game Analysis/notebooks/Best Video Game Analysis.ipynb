{
 "cells": [
  {
   "cell_type": "markdown",
   "id": "edb46caf",
   "metadata": {},
   "source": [
    "# Best Video Game Analysis"
   ]
  },
  {
   "cell_type": "markdown",
   "id": "b777b069",
   "metadata": {},
   "source": [
    "## 1. Abstract\n",
    "\n",
    "**Context:**  \n",
    "The video game industry is huge, with thousands of games released every year. Only a small part of them manage to become popular and keep players engaged. Finding out what makes these games successful can help both developers and players.  \n",
    "\n",
    "**Aims:**  \n",
    "The goal of this project is to build a **Best Game Index (BGI)** that combines several factors into one score, showing which games stand out.  \n",
    "\n",
    "**Methods:**  \n",
    "I first built a custom scraper to collect data from the **Steam API** and **SteamSpy API**, but due to strict request limits it was too slow to use directly. Instead, I used a ready dataset with the same information. From it, I created new features like a *review score* (that gives more weight to positive reviews) and a *playtime score*. All features were normalized to be on the same scale. A weighted formula was then used to calculate the BGI. To test if my weights were reliable, I added random noise and checked if the top games stayed the same.  \n",
    "\n",
    "**Results:**  \n",
    "Most games in the dataset perform poorly, while only a few dominate in ownership, playtime, and community engagement. The BGI proved stable: even after adding noise to the weights, the top-10 list of games stayed about 90% the same. This shows the index is not too dependent on exact weight choices and works well to highlight the most successful games.  "
   ]
  },
  {
   "cell_type": "markdown",
   "id": "209ab0d7",
   "metadata": {},
   "source": [
    "### 2. Introduction: In this project, we will be trying to determine which is the best video game ever. (Released on steam)\n",
    "\n",
    "In this project, we aim to determine which is the best video game released on Steam. Since it would be impossible to analyze every game ever created, we will focus on Steam, one of the largest digital platforms for PC games. The dataset we are using contains games going back to 1997 and includes around 200,000 entries — a sufficiently large sample for meaningful analysis.\n",
    "\n",
    "Our goal is to rank these games based on statistics, taking into account factors like playtime, reviews, achievements, and ownership."
   ]
  },
  {
   "cell_type": "markdown",
   "id": "de084564",
   "metadata": {},
   "source": [
    "### 3. Data preperation / Cleaning: \n",
    "While searching for a clean, up to date dataset I realized there are none, so I tried to create my own using the Steam API with a combination of the Steam SPY API _(src/scraper.py)_. Unfortunately due to those API's having rate limits, a lot of uneeded (for us) data about trailers, DLC's, limitations and data hidden behind a paywall (for Steam SPY) I was unable to create my own dataset. I used the best one I could find which was a dataset from Kaggle, it faced the same issues as me so there is missing data for some games and features. But as Data Scientists we work with what we have.\n",
    "\n",
    "As mentioned, the sources the dataset creator used, are the same ones I tried to use:\n",
    "- Steam API has the official MetaData (release data, price, developers)\n",
    "- Steam Spy has estimated/publically scraped data (owners, playtime, achivements)\n",
    "- [Kaggle Dataset](https://www.kaggle.com/datasets/fronkongames/steam-games-dataset/data) - place the dataset in the /data folder."
   ]
  },
  {
   "cell_type": "code",
   "execution_count": 2,
   "id": "523bdb3d",
   "metadata": {},
   "outputs": [],
   "source": [
    "import pandas as pd\n",
    "import matplotlib.pyplot as plt\n",
    "import seaborn as sns\n",
    "from IPython.display import Image, Video, display\n",
    "import numpy as np\n",
    "from scipy.stats import pearsonr, spearmanr\n",
    "from sklearn.preprocessing import MinMaxScaler\n",
    "import plotly.express as px\n",
    "\n",
    "import src.utils as utils"
   ]
  },
  {
   "cell_type": "code",
   "execution_count": null,
   "id": "6d69774a",
   "metadata": {},
   "outputs": [],
   "source": [
    "# Setting the display.max_columns so I can see all columns in the DataFrame\n",
    "pd.set_option('display.max_columns', None)\n",
    "# Assuming you already placed the dataset in the /data folder.\n",
    "games = utils.read_games_csv_with_broken_header(\"../data/games.csv\")\n",
    "\n",
    "# I added a header 'test' since the dataset was missing one, which caused issues when loading the data. The data for that header is 98% zeroes and since I got no idea what it is, I will\n",
    "# remove it.\n",
    "games.drop(columns=['test'], inplace=True)\n",
    "\n",
    "# turn column names to snake case so it's easier to work with and I won't have to deal with spaces\n",
    "games.columns = games.columns.str.lower().str.replace(' ', '_')\n",
    "\n",
    "# The dataset has a lot of empty duplicates so I will get the valid one for each game\n",
    "games = games.loc[\n",
    "    games.groupby('name')['median_playtime_forever'].idxmax()\n",
    "]\n",
    "\n",
    "# Deserialize release_date into separate columns\n",
    "games['release_date'] = pd.to_datetime(games['release_date'], errors='coerce')\n",
    "\n",
    "games['release_year'] = games['release_date'].dt.year\n",
    "games['release_month'] = games['release_date'].dt.month\n",
    "games['release_day'] = games['release_date'].dt.day\n",
    "\n",
    "# Handle missing values and convert to int (from float)\n",
    "games['release_year'] = games['release_year'].fillna(2025).astype(int) \n",
    "games['release_month'] = games['release_month'].fillna(1).astype(int)\n",
    "games['release_day'] = games['release_day'].fillna(1).astype(int)\n",
    "\n",
    "# I will drop the user_score because most of the data has 0 due to unavailable statistics, not because the score is 0. This will introduce a huge bias later if kept in.\n",
    "games.drop(columns=['release_date', 'user_score'], inplace=True)\n",
    "\n",
    "# Now, I will convert the bool values into numerical ones for easier analysis\n",
    "bool_columns = games.select_dtypes(include=['bool']).columns\n",
    "games[bool_columns] = games[bool_columns].astype(int)\n",
    "\n",
    "# I will create columns for number of entries where we have an array of categories (ex: tags, genres, etc.)\n",
    "games['num_supported_languages'] = games.supported_languages.fillna('').str.split(',').apply(utils.get_string_array_length)\n",
    "games['num_supported_audio_languages'] = games.full_audio_languages.fillna('').str.split(',').apply(utils.get_string_array_length)\n",
    "games['num_tags'] = games.tags.fillna('').str.split(',').apply(utils.get_string_array_length)\n",
    "games['num_genres'] = games.genres.fillna('').str.split(',').apply(utils.get_string_array_length)\n",
    "games['num_categories'] = games.categories.fillna('').str.split(',').apply(utils.get_string_array_length)\n",
    "games.head(5)\n",
    "\n",
    "games = games.rename(columns={'peak_ccu': 'peak_concurrent_users'})\n",
    "\n",
    "# I will also normalize the estimated_owners column so we can actually use the data. Will use the formula x_standard = (x - mean) / std\n",
    "games['owners_count'] = games.estimated_owners.apply(utils.range_to_average)\n",
    "\n",
    "# Save cleaned dataset\n",
    "games.to_csv('../data/games_cleaned.csv', index=False)"
   ]
  },
  {
   "cell_type": "markdown",
   "id": "334fc726",
   "metadata": {},
   "source": [
    "### 4. Data Visualization\n",
    "\n",
    "Let's visualize what we have so far."
   ]
  },
  {
   "cell_type": "code",
   "execution_count": 7,
   "id": "102e4a27",
   "metadata": {},
   "outputs": [
    {
     "data": {
      "text/plain": [
       "<Figure size 1600x1000 with 2 Axes>"
      ]
     },
     "metadata": {},
     "output_type": "display_data"
    }
   ],
   "source": [
    "# Now let's display a correlation matrix for visualization.\n",
    "plt.figure(figsize=(16, 10))\n",
    "sns.heatmap(games.corr(numeric_only=True), annot=True, fmt='.2f', cmap='coolwarm')\n",
    "plt.title('Correlation Heatmap of Video Game Features')\n",
    "plt.show()"
   ]
  },
  {
   "cell_type": "code",
   "execution_count": 8,
   "id": "8107e608",
   "metadata": {},
   "outputs": [
    {
     "data": {
      "text/plain": [
       "<Figure size 640x480 with 1 Axes>"
      ]
     },
     "metadata": {},
     "output_type": "display_data"
    }
   ],
   "source": [
    "# The price has a positive correlation to the score_rank, as we can see, the more expensive the game, the higher the score.\n",
    "# Meaning the best games are usually the most expensive ones. (let's keep that in mind)\n",
    "plt.scatter(games['score_rank'], games['price'], label='Score Rank', alpha=0.7)\n",
    "\n",
    "plt.xlabel('Score')\n",
    "plt.ylabel('Price')\n",
    "plt.title('Price vs User Score and Score Rank')\n",
    "plt.legend()\n",
    "plt.show()"
   ]
  },
  {
   "cell_type": "code",
   "execution_count": 9,
   "id": "c2d867f3",
   "metadata": {},
   "outputs": [
    {
     "data": {
      "text/plain": [
       "<Figure size 1200x800 with 4 Axes>"
      ]
     },
     "metadata": {},
     "output_type": "display_data"
    }
   ],
   "source": [
    "cols = ['recommendations', 'positive', 'negative', 'peak_concurrent_users']\n",
    "\n",
    "plt.figure(figsize=(12, 8))\n",
    "for i, col in enumerate(cols, 1):\n",
    "    plt.subplot(2, 2, i)\n",
    "    plt.scatter(games['owners_count'], games[col], alpha=0.6)\n",
    "    plt.xlabel('Owners Count')\n",
    "    plt.ylabel(col)\n",
    "    plt.title(f'Owners Count vs {col}')\n",
    "\n",
    "plt.tight_layout()\n",
    "plt.show()\n",
    "\n",
    "# With this plot we can confirm that the more players we have, the more recommendations, positive reviews, negative reviews, and peak concurrent users increase.\n",
    "# Which is obvious most of the time, but we still need to validate our assumptions with data."
   ]
  },
  {
   "cell_type": "markdown",
   "id": "fa89353d",
   "metadata": {},
   "source": [
    "### 5. Feature Engineering\n",
    "\n",
    "#### I will need a formula to calculate retention score for the games. This will help me formulate the final formula which I will use to determine the best game based on the data from this dataset.\n",
    "\n",
    "The problem is, the best game is subjective for everyone, some people prefer older games, some newer, some prefer fps, some moba. In order for there to be no bias, I will create a formula, which combines the most important features (high correlation) and calculates a score for each game. But first, I want a retention score feature, which tells us how much of the playerbase stuck around after the initial launch.\n",
    "\n",
    "Something like $$retention\\_score = (avg\\_playtime\\_2w / avg\\_playtime\\_forever + 1) * \\log(1 + game\\_age)$$\n",
    "\n",
    "We use **log scaling** due to outliers.\n",
    "\n",
    "Where:\n",
    "- Close to 1 → people are still playing as much now as ever.\n",
    "- Close to 0 → game is basically dead.\n",
    "- We apply an age based weight - $retention\\_score * \\log(1 + game\\_age)$ and use logarithm to normalize the result (boost retention for old games, close to no boost for new games)"
   ]
  },
  {
   "cell_type": "code",
   "execution_count": 10,
   "id": "c2434a5c",
   "metadata": {},
   "outputs": [
    {
     "data": {
      "text/html": [
       "<div>\n",
       "<style scoped>\n",
       "    .dataframe tbody tr th:only-of-type {\n",
       "        vertical-align: middle;\n",
       "    }\n",
       "\n",
       "    .dataframe tbody tr th {\n",
       "        vertical-align: top;\n",
       "    }\n",
       "\n",
       "    .dataframe thead th {\n",
       "        text-align: right;\n",
       "    }\n",
       "</style>\n",
       "<table border=\"1\" class=\"dataframe\">\n",
       "  <thead>\n",
       "    <tr style=\"text-align: right;\">\n",
       "      <th></th>\n",
       "      <th>appid</th>\n",
       "      <th>name</th>\n",
       "      <th>estimated_owners</th>\n",
       "      <th>peak_concurrent_users</th>\n",
       "      <th>required_age</th>\n",
       "      <th>price</th>\n",
       "      <th>discountdlc_count</th>\n",
       "      <th>about_the_game</th>\n",
       "      <th>supported_languages</th>\n",
       "      <th>full_audio_languages</th>\n",
       "      <th>reviews</th>\n",
       "      <th>header_image</th>\n",
       "      <th>website</th>\n",
       "      <th>support_url</th>\n",
       "      <th>support_email</th>\n",
       "      <th>windows</th>\n",
       "      <th>mac</th>\n",
       "      <th>linux</th>\n",
       "      <th>metacritic_score</th>\n",
       "      <th>metacritic_url</th>\n",
       "      <th>positive</th>\n",
       "      <th>negative</th>\n",
       "      <th>score_rank</th>\n",
       "      <th>achievements</th>\n",
       "      <th>recommendations</th>\n",
       "      <th>notes</th>\n",
       "      <th>average_playtime_forever</th>\n",
       "      <th>average_playtime_two_weeks</th>\n",
       "      <th>median_playtime_forever</th>\n",
       "      <th>median_playtime_two_weeks</th>\n",
       "      <th>developers</th>\n",
       "      <th>publishers</th>\n",
       "      <th>categories</th>\n",
       "      <th>genres</th>\n",
       "      <th>tags</th>\n",
       "      <th>screenshots</th>\n",
       "      <th>movies</th>\n",
       "      <th>release_year</th>\n",
       "      <th>release_month</th>\n",
       "      <th>release_day</th>\n",
       "      <th>num_supported_languages</th>\n",
       "      <th>num_supported_audio_languages</th>\n",
       "      <th>num_tags</th>\n",
       "      <th>num_genres</th>\n",
       "      <th>num_categories</th>\n",
       "      <th>owners_count</th>\n",
       "      <th>game_age</th>\n",
       "      <th>retention_score</th>\n",
       "    </tr>\n",
       "  </thead>\n",
       "  <tbody>\n",
       "    <tr>\n",
       "      <th>25075</th>\n",
       "      <td>21800</td>\n",
       "      <td>Tom Clancy's EndWar™</td>\n",
       "      <td>100000 - 200000</td>\n",
       "      <td>19</td>\n",
       "      <td>0</td>\n",
       "      <td>9.99</td>\n",
       "      <td>0</td>\n",
       "      <td>Live the thrilling career of an army commander...</td>\n",
       "      <td>['English', 'French', 'German', 'Italian', 'Sp...</td>\n",
       "      <td>[]</td>\n",
       "      <td>NaN</td>\n",
       "      <td>https://cdn.akamai.steamstatic.com/steam/apps/...</td>\n",
       "      <td>http://endwargame.us.ubi.com/</td>\n",
       "      <td>NaN</td>\n",
       "      <td>NaN</td>\n",
       "      <td>1</td>\n",
       "      <td>0</td>\n",
       "      <td>0</td>\n",
       "      <td>68</td>\n",
       "      <td>https://www.metacritic.com/game/pc/tom-clancys...</td>\n",
       "      <td>539</td>\n",
       "      <td>143</td>\n",
       "      <td>NaN</td>\n",
       "      <td>0</td>\n",
       "      <td>643</td>\n",
       "      <td>NaN</td>\n",
       "      <td>262</td>\n",
       "      <td>0</td>\n",
       "      <td>467</td>\n",
       "      <td>0</td>\n",
       "      <td>Ubisoft  Shanghaï</td>\n",
       "      <td>Ubisoft</td>\n",
       "      <td>Single-player,Multi-player</td>\n",
       "      <td>Strategy</td>\n",
       "      <td>Strategy,RTS,Tactical,Voice Control,War,Single...</td>\n",
       "      <td>https://cdn.akamai.steamstatic.com/steam/apps/...</td>\n",
       "      <td>NaN</td>\n",
       "      <td>2009</td>\n",
       "      <td>2</td>\n",
       "      <td>25</td>\n",
       "      <td>5</td>\n",
       "      <td>1</td>\n",
       "      <td>8</td>\n",
       "      <td>1</td>\n",
       "      <td>2</td>\n",
       "      <td>150000</td>\n",
       "      <td>16</td>\n",
       "      <td>0.000000</td>\n",
       "    </tr>\n",
       "    <tr>\n",
       "      <th>49691</th>\n",
       "      <td>212630</td>\n",
       "      <td>Tom Clancy's Ghost Recon: Future Soldier™</td>\n",
       "      <td>200000 - 500000</td>\n",
       "      <td>16</td>\n",
       "      <td>17</td>\n",
       "      <td>19.99</td>\n",
       "      <td>4</td>\n",
       "      <td>There is nothing fair, honorable, or just abou...</td>\n",
       "      <td>['English', 'Danish', 'Dutch', 'French', 'Germ...</td>\n",
       "      <td>['English', 'French', 'German', 'Italian', 'Sp...</td>\n",
       "      <td>NaN</td>\n",
       "      <td>https://cdn.akamai.steamstatic.com/steam/apps/...</td>\n",
       "      <td>http://www.ghostrecon.com/</td>\n",
       "      <td>https://support.ubi.com/</td>\n",
       "      <td>NaN</td>\n",
       "      <td>1</td>\n",
       "      <td>0</td>\n",
       "      <td>0</td>\n",
       "      <td>71</td>\n",
       "      <td>https://www.metacritic.com/game/pc/tom-clancys...</td>\n",
       "      <td>3045</td>\n",
       "      <td>1478</td>\n",
       "      <td>NaN</td>\n",
       "      <td>0</td>\n",
       "      <td>3885</td>\n",
       "      <td>NaN</td>\n",
       "      <td>329</td>\n",
       "      <td>0</td>\n",
       "      <td>206</td>\n",
       "      <td>0</td>\n",
       "      <td>Ubisoft Paris,Red Storm Entertainment</td>\n",
       "      <td>Ubisoft</td>\n",
       "      <td>Single-player,Multi-player,Co-op</td>\n",
       "      <td>Action</td>\n",
       "      <td>Action,Stealth,Third-Person Shooter,Co-op,Tact...</td>\n",
       "      <td>https://cdn.akamai.steamstatic.com/steam/apps/...</td>\n",
       "      <td>NaN</td>\n",
       "      <td>2012</td>\n",
       "      <td>6</td>\n",
       "      <td>26</td>\n",
       "      <td>11</td>\n",
       "      <td>6</td>\n",
       "      <td>20</td>\n",
       "      <td>1</td>\n",
       "      <td>3</td>\n",
       "      <td>350000</td>\n",
       "      <td>13</td>\n",
       "      <td>0.000000</td>\n",
       "    </tr>\n",
       "    <tr>\n",
       "      <th>40814</th>\n",
       "      <td>15300</td>\n",
       "      <td>Tom Clancy's Ghost Recon®</td>\n",
       "      <td>200000 - 500000</td>\n",
       "      <td>16</td>\n",
       "      <td>17</td>\n",
       "      <td>9.99</td>\n",
       "      <td>0</td>\n",
       "      <td>Eastern Europe, 2008. War has broken out on th...</td>\n",
       "      <td>['English']</td>\n",
       "      <td>[]</td>\n",
       "      <td>NaN</td>\n",
       "      <td>https://cdn.akamai.steamstatic.com/steam/apps/...</td>\n",
       "      <td>http://ghostrecon.us.ubi.com/</td>\n",
       "      <td>NaN</td>\n",
       "      <td>NaN</td>\n",
       "      <td>1</td>\n",
       "      <td>0</td>\n",
       "      <td>0</td>\n",
       "      <td>80</td>\n",
       "      <td>https://www.metacritic.com/game/pc/tom-clancys...</td>\n",
       "      <td>992</td>\n",
       "      <td>76</td>\n",
       "      <td>NaN</td>\n",
       "      <td>0</td>\n",
       "      <td>999</td>\n",
       "      <td>NaN</td>\n",
       "      <td>27</td>\n",
       "      <td>0</td>\n",
       "      <td>30</td>\n",
       "      <td>0</td>\n",
       "      <td>Red Storm Entertainment</td>\n",
       "      <td>Ubisoft</td>\n",
       "      <td>Single-player,Co-op</td>\n",
       "      <td>Action</td>\n",
       "      <td>Tactical,FPS,Action,Simulation,Shooter,Classic...</td>\n",
       "      <td>https://cdn.akamai.steamstatic.com/steam/apps/...</td>\n",
       "      <td>NaN</td>\n",
       "      <td>2008</td>\n",
       "      <td>7</td>\n",
       "      <td>15</td>\n",
       "      <td>1</td>\n",
       "      <td>1</td>\n",
       "      <td>17</td>\n",
       "      <td>1</td>\n",
       "      <td>2</td>\n",
       "      <td>350000</td>\n",
       "      <td>17</td>\n",
       "      <td>0.000000</td>\n",
       "    </tr>\n",
       "    <tr>\n",
       "      <th>69053</th>\n",
       "      <td>2231380</td>\n",
       "      <td>Tom Clancy's Ghost Recon® Breakpoint</td>\n",
       "      <td>50000 - 100000</td>\n",
       "      <td>9048</td>\n",
       "      <td>17</td>\n",
       "      <td>12.00</td>\n",
       "      <td>1</td>\n",
       "      <td>Explore a treacherous archipelago Explore Auro...</td>\n",
       "      <td>['English', 'French', 'Italian', 'German', 'Sp...</td>\n",
       "      <td>['English', 'French', 'Italian', 'German', 'Sp...</td>\n",
       "      <td>NaN</td>\n",
       "      <td>https://cdn.akamai.steamstatic.com/steam/apps/...</td>\n",
       "      <td>https://ghost-recon.ubisoft.com/</td>\n",
       "      <td>https://support.ubi.com/</td>\n",
       "      <td>NaN</td>\n",
       "      <td>1</td>\n",
       "      <td>0</td>\n",
       "      <td>0</td>\n",
       "      <td>0</td>\n",
       "      <td>NaN</td>\n",
       "      <td>864</td>\n",
       "      <td>824</td>\n",
       "      <td>NaN</td>\n",
       "      <td>0</td>\n",
       "      <td>1932</td>\n",
       "      <td>NaN</td>\n",
       "      <td>281</td>\n",
       "      <td>281</td>\n",
       "      <td>338</td>\n",
       "      <td>338</td>\n",
       "      <td>Ubisoft Paris</td>\n",
       "      <td>Ubisoft</td>\n",
       "      <td>Single-player,Multi-player,Co-op,Online Co-op,...</td>\n",
       "      <td>Action,Adventure</td>\n",
       "      <td>Action,Adventure,Shooter,Third-Person Shooter,...</td>\n",
       "      <td>https://cdn.akamai.steamstatic.com/steam/apps/...</td>\n",
       "      <td>http://cdn.akamai.steamstatic.com/steam/apps/2...</td>\n",
       "      <td>2023</td>\n",
       "      <td>1</td>\n",
       "      <td>23</td>\n",
       "      <td>16</td>\n",
       "      <td>10</td>\n",
       "      <td>17</td>\n",
       "      <td>2</td>\n",
       "      <td>5</td>\n",
       "      <td>75000</td>\n",
       "      <td>2</td>\n",
       "      <td>1.094717</td>\n",
       "    </tr>\n",
       "    <tr>\n",
       "      <th>16755</th>\n",
       "      <td>13620</td>\n",
       "      <td>Tom Clancy's Ghost Recon® Desert Siege™</td>\n",
       "      <td>200000 - 500000</td>\n",
       "      <td>3</td>\n",
       "      <td>17</td>\n",
       "      <td>4.99</td>\n",
       "      <td>0</td>\n",
       "      <td>East Africa, 2009. A 60-year conflict boils ov...</td>\n",
       "      <td>['English']</td>\n",
       "      <td>[]</td>\n",
       "      <td>NaN</td>\n",
       "      <td>https://cdn.akamai.steamstatic.com/steam/apps/...</td>\n",
       "      <td>http://www.ghostrecon.com/us/product_grds.php</td>\n",
       "      <td>NaN</td>\n",
       "      <td>NaN</td>\n",
       "      <td>1</td>\n",
       "      <td>0</td>\n",
       "      <td>0</td>\n",
       "      <td>82</td>\n",
       "      <td>https://www.metacritic.com/game/pc/tom-clancys...</td>\n",
       "      <td>82</td>\n",
       "      <td>5</td>\n",
       "      <td>NaN</td>\n",
       "      <td>0</td>\n",
       "      <td>0</td>\n",
       "      <td>NaN</td>\n",
       "      <td>1</td>\n",
       "      <td>0</td>\n",
       "      <td>1</td>\n",
       "      <td>0</td>\n",
       "      <td>Red Storm Entertainment</td>\n",
       "      <td>Ubisoft</td>\n",
       "      <td>Single-player,Multi-player</td>\n",
       "      <td>Action</td>\n",
       "      <td>Action,Shooter,FPS,First-Person,Tactical,Strategy</td>\n",
       "      <td>https://cdn.akamai.steamstatic.com/steam/apps/...</td>\n",
       "      <td>NaN</td>\n",
       "      <td>2008</td>\n",
       "      <td>7</td>\n",
       "      <td>15</td>\n",
       "      <td>1</td>\n",
       "      <td>1</td>\n",
       "      <td>6</td>\n",
       "      <td>1</td>\n",
       "      <td>2</td>\n",
       "      <td>350000</td>\n",
       "      <td>17</td>\n",
       "      <td>0.000000</td>\n",
       "    </tr>\n",
       "    <tr>\n",
       "      <th>38378</th>\n",
       "      <td>13630</td>\n",
       "      <td>Tom Clancy's Ghost Recon® Island Thunder™</td>\n",
       "      <td>20000 - 50000</td>\n",
       "      <td>2</td>\n",
       "      <td>0</td>\n",
       "      <td>4.99</td>\n",
       "      <td>0</td>\n",
       "      <td>Ghost Recon takes the next step in battlefield...</td>\n",
       "      <td>['English']</td>\n",
       "      <td>[]</td>\n",
       "      <td>NaN</td>\n",
       "      <td>https://cdn.akamai.steamstatic.com/steam/apps/...</td>\n",
       "      <td>http://www.ghostrecon.com/us/product_grit.php</td>\n",
       "      <td>NaN</td>\n",
       "      <td>NaN</td>\n",
       "      <td>1</td>\n",
       "      <td>0</td>\n",
       "      <td>0</td>\n",
       "      <td>82</td>\n",
       "      <td>https://www.metacritic.com/game/pc/tom-clancys...</td>\n",
       "      <td>81</td>\n",
       "      <td>12</td>\n",
       "      <td>NaN</td>\n",
       "      <td>0</td>\n",
       "      <td>0</td>\n",
       "      <td>NaN</td>\n",
       "      <td>2</td>\n",
       "      <td>0</td>\n",
       "      <td>2</td>\n",
       "      <td>0</td>\n",
       "      <td>Red Storm Entertainment</td>\n",
       "      <td>Ubisoft</td>\n",
       "      <td>NaN</td>\n",
       "      <td>Action</td>\n",
       "      <td>Action,Tactical,Shooter,FPS,First-Person,Military</td>\n",
       "      <td>https://cdn.akamai.steamstatic.com/steam/apps/...</td>\n",
       "      <td>NaN</td>\n",
       "      <td>2008</td>\n",
       "      <td>7</td>\n",
       "      <td>15</td>\n",
       "      <td>1</td>\n",
       "      <td>1</td>\n",
       "      <td>6</td>\n",
       "      <td>1</td>\n",
       "      <td>1</td>\n",
       "      <td>35000</td>\n",
       "      <td>17</td>\n",
       "      <td>0.000000</td>\n",
       "    </tr>\n",
       "    <tr>\n",
       "      <th>30756</th>\n",
       "      <td>460930</td>\n",
       "      <td>Tom Clancy's Ghost Recon® Wildlands</td>\n",
       "      <td>2000000 - 5000000</td>\n",
       "      <td>2144</td>\n",
       "      <td>0</td>\n",
       "      <td>49.99</td>\n",
       "      <td>4</td>\n",
       "      <td>Create a team with up to 3 friends in Tom Clan...</td>\n",
       "      <td>['English', 'French', 'Italian', 'German', 'Sp...</td>\n",
       "      <td>['English', 'French', 'Italian', 'German', 'Sp...</td>\n",
       "      <td>NaN</td>\n",
       "      <td>https://cdn.akamai.steamstatic.com/steam/apps/...</td>\n",
       "      <td>http://ghostrecon.com</td>\n",
       "      <td>https://support.ubi.com/</td>\n",
       "      <td>NaN</td>\n",
       "      <td>1</td>\n",
       "      <td>0</td>\n",
       "      <td>0</td>\n",
       "      <td>0</td>\n",
       "      <td>NaN</td>\n",
       "      <td>53673</td>\n",
       "      <td>14411</td>\n",
       "      <td>NaN</td>\n",
       "      <td>0</td>\n",
       "      <td>56248</td>\n",
       "      <td>NaN</td>\n",
       "      <td>3593</td>\n",
       "      <td>156</td>\n",
       "      <td>1544</td>\n",
       "      <td>166</td>\n",
       "      <td>Ubisoft Paris,Ubisoft Annecy,Ubisoft Bucharest...</td>\n",
       "      <td>Ubisoft</td>\n",
       "      <td>Single-player,Multi-player,Co-op,Steam Trading...</td>\n",
       "      <td>Action,Adventure</td>\n",
       "      <td>Open World,Shooter,Co-op,Multiplayer,Action,St...</td>\n",
       "      <td>https://cdn.akamai.steamstatic.com/steam/apps/...</td>\n",
       "      <td>http://cdn.akamai.steamstatic.com/steam/apps/2...</td>\n",
       "      <td>2017</td>\n",
       "      <td>3</td>\n",
       "      <td>6</td>\n",
       "      <td>15</td>\n",
       "      <td>9</td>\n",
       "      <td>20</td>\n",
       "      <td>2</td>\n",
       "      <td>6</td>\n",
       "      <td>3500000</td>\n",
       "      <td>8</td>\n",
       "      <td>0.095372</td>\n",
       "    </tr>\n",
       "    <tr>\n",
       "      <th>32548</th>\n",
       "      <td>15000</td>\n",
       "      <td>Tom Clancy's Rainbow Six Lockdown™</td>\n",
       "      <td>100000 - 200000</td>\n",
       "      <td>1</td>\n",
       "      <td>17</td>\n",
       "      <td>9.99</td>\n",
       "      <td>0</td>\n",
       "      <td>Engineered specifically for the PC by Red Stor...</td>\n",
       "      <td>['English']</td>\n",
       "      <td>[]</td>\n",
       "      <td>NaN</td>\n",
       "      <td>https://cdn.akamai.steamstatic.com/steam/apps/...</td>\n",
       "      <td>NaN</td>\n",
       "      <td>NaN</td>\n",
       "      <td>NaN</td>\n",
       "      <td>1</td>\n",
       "      <td>0</td>\n",
       "      <td>0</td>\n",
       "      <td>59</td>\n",
       "      <td>https://www.metacritic.com/game/pc/tom-clancys...</td>\n",
       "      <td>185</td>\n",
       "      <td>134</td>\n",
       "      <td>NaN</td>\n",
       "      <td>0</td>\n",
       "      <td>302</td>\n",
       "      <td>NaN</td>\n",
       "      <td>35</td>\n",
       "      <td>0</td>\n",
       "      <td>68</td>\n",
       "      <td>0</td>\n",
       "      <td>Red Storm Entertainment</td>\n",
       "      <td>Ubisoft</td>\n",
       "      <td>Single-player,Multi-player</td>\n",
       "      <td>Action</td>\n",
       "      <td>Action,Shooter,FPS,First-Person,Tactical,Multi...</td>\n",
       "      <td>https://cdn.akamai.steamstatic.com/steam/apps/...</td>\n",
       "      <td>NaN</td>\n",
       "      <td>2008</td>\n",
       "      <td>5</td>\n",
       "      <td>13</td>\n",
       "      <td>1</td>\n",
       "      <td>1</td>\n",
       "      <td>8</td>\n",
       "      <td>1</td>\n",
       "      <td>2</td>\n",
       "      <td>150000</td>\n",
       "      <td>17</td>\n",
       "      <td>0.000000</td>\n",
       "    </tr>\n",
       "    <tr>\n",
       "      <th>4062</th>\n",
       "      <td>19830</td>\n",
       "      <td>Tom Clancy's Rainbow Six® 3 Gold</td>\n",
       "      <td>200000 - 500000</td>\n",
       "      <td>21</td>\n",
       "      <td>0</td>\n",
       "      <td>9.99</td>\n",
       "      <td>0</td>\n",
       "      <td>Raven Shield: Command an elite multinational s...</td>\n",
       "      <td>['English']</td>\n",
       "      <td>[]</td>\n",
       "      <td>NaN</td>\n",
       "      <td>https://cdn.akamai.steamstatic.com/steam/apps/...</td>\n",
       "      <td>NaN</td>\n",
       "      <td>NaN</td>\n",
       "      <td>NaN</td>\n",
       "      <td>1</td>\n",
       "      <td>0</td>\n",
       "      <td>0</td>\n",
       "      <td>85</td>\n",
       "      <td>https://www.metacritic.com/game/pc/tom-clancys...</td>\n",
       "      <td>1353</td>\n",
       "      <td>118</td>\n",
       "      <td>NaN</td>\n",
       "      <td>0</td>\n",
       "      <td>1345</td>\n",
       "      <td>NaN</td>\n",
       "      <td>46</td>\n",
       "      <td>0</td>\n",
       "      <td>50</td>\n",
       "      <td>0</td>\n",
       "      <td>Red Storm Entertainment,Ubisoft Montreal</td>\n",
       "      <td>Ubisoft</td>\n",
       "      <td>Single-player</td>\n",
       "      <td>Action</td>\n",
       "      <td>Tactical,FPS,Action,Simulation,Strategy,Realis...</td>\n",
       "      <td>https://cdn.akamai.steamstatic.com/steam/apps/...</td>\n",
       "      <td>NaN</td>\n",
       "      <td>2008</td>\n",
       "      <td>9</td>\n",
       "      <td>25</td>\n",
       "      <td>1</td>\n",
       "      <td>1</td>\n",
       "      <td>15</td>\n",
       "      <td>1</td>\n",
       "      <td>1</td>\n",
       "      <td>350000</td>\n",
       "      <td>17</td>\n",
       "      <td>0.000000</td>\n",
       "    </tr>\n",
       "    <tr>\n",
       "      <th>8256</th>\n",
       "      <td>359550</td>\n",
       "      <td>Tom Clancy's Rainbow Six® Siege</td>\n",
       "      <td>20000000 - 50000000</td>\n",
       "      <td>42263</td>\n",
       "      <td>17</td>\n",
       "      <td>19.99</td>\n",
       "      <td>11</td>\n",
       "      <td>Master the art of destruction and gadgetry in ...</td>\n",
       "      <td>['English', 'French', 'Italian', 'German', 'Sp...</td>\n",
       "      <td>['English', 'French', 'Italian', 'German', 'Sp...</td>\n",
       "      <td>NaN</td>\n",
       "      <td>https://cdn.akamai.steamstatic.com/steam/apps/...</td>\n",
       "      <td>http://rainbow6.ubi.com/</td>\n",
       "      <td>http://support.ubi.com</td>\n",
       "      <td>NaN</td>\n",
       "      <td>1</td>\n",
       "      <td>0</td>\n",
       "      <td>0</td>\n",
       "      <td>0</td>\n",
       "      <td>NaN</td>\n",
       "      <td>929372</td>\n",
       "      <td>138530</td>\n",
       "      <td>NaN</td>\n",
       "      <td>0</td>\n",
       "      <td>899477</td>\n",
       "      <td>NaN</td>\n",
       "      <td>13837</td>\n",
       "      <td>707</td>\n",
       "      <td>3100</td>\n",
       "      <td>319</td>\n",
       "      <td>Ubisoft Montreal</td>\n",
       "      <td>Ubisoft</td>\n",
       "      <td>Single-player,Multi-player,PvP,Online PvP,Co-o...</td>\n",
       "      <td>Action</td>\n",
       "      <td>FPS,Hero Shooter,Multiplayer,Tactical,Shooter,...</td>\n",
       "      <td>https://cdn.akamai.steamstatic.com/steam/apps/...</td>\n",
       "      <td>http://cdn.akamai.steamstatic.com/steam/apps/2...</td>\n",
       "      <td>2015</td>\n",
       "      <td>12</td>\n",
       "      <td>1</td>\n",
       "      <td>16</td>\n",
       "      <td>9</td>\n",
       "      <td>20</td>\n",
       "      <td>1</td>\n",
       "      <td>11</td>\n",
       "      <td>35000000</td>\n",
       "      <td>10</td>\n",
       "      <td>0.122511</td>\n",
       "    </tr>\n",
       "    <tr>\n",
       "      <th>11657</th>\n",
       "      <td>13540</td>\n",
       "      <td>Tom Clancy's Rainbow Six® Vegas</td>\n",
       "      <td>100000 - 200000</td>\n",
       "      <td>9</td>\n",
       "      <td>17</td>\n",
       "      <td>9.99</td>\n",
       "      <td>0</td>\n",
       "      <td>Tom Clancy's Rainbow Six makes its next-genera...</td>\n",
       "      <td>['English', 'French']</td>\n",
       "      <td>[]</td>\n",
       "      <td>NaN</td>\n",
       "      <td>https://cdn.akamai.steamstatic.com/steam/apps/...</td>\n",
       "      <td>http://rainbowsixgame.uk.ubi.com/vegas/</td>\n",
       "      <td>NaN</td>\n",
       "      <td>NaN</td>\n",
       "      <td>1</td>\n",
       "      <td>0</td>\n",
       "      <td>0</td>\n",
       "      <td>85</td>\n",
       "      <td>http://www.metacritic.com/game/pc/tom-clancys-...</td>\n",
       "      <td>744</td>\n",
       "      <td>196</td>\n",
       "      <td>NaN</td>\n",
       "      <td>0</td>\n",
       "      <td>850</td>\n",
       "      <td>NaN</td>\n",
       "      <td>352</td>\n",
       "      <td>0</td>\n",
       "      <td>533</td>\n",
       "      <td>0</td>\n",
       "      <td>Ubisoft Montreal</td>\n",
       "      <td>Ubisoft</td>\n",
       "      <td>Single-player,Multi-player</td>\n",
       "      <td>Action</td>\n",
       "      <td>Action,FPS,Tactical,Co-op,Singleplayer,Shooter...</td>\n",
       "      <td>https://cdn.akamai.steamstatic.com/steam/apps/...</td>\n",
       "      <td>NaN</td>\n",
       "      <td>2008</td>\n",
       "      <td>4</td>\n",
       "      <td>9</td>\n",
       "      <td>2</td>\n",
       "      <td>1</td>\n",
       "      <td>14</td>\n",
       "      <td>1</td>\n",
       "      <td>2</td>\n",
       "      <td>150000</td>\n",
       "      <td>17</td>\n",
       "      <td>0.000000</td>\n",
       "    </tr>\n",
       "    <tr>\n",
       "      <th>32103</th>\n",
       "      <td>15120</td>\n",
       "      <td>Tom Clancy's Rainbow Six® Vegas 2</td>\n",
       "      <td>500000 - 1000000</td>\n",
       "      <td>46</td>\n",
       "      <td>17</td>\n",
       "      <td>9.99</td>\n",
       "      <td>0</td>\n",
       "      <td>Tom Clancy's Rainbow Six® Vegas 2 - the sequel...</td>\n",
       "      <td>['English', 'French', 'Italian', 'German', 'Sp...</td>\n",
       "      <td>[]</td>\n",
       "      <td>NaN</td>\n",
       "      <td>https://cdn.akamai.steamstatic.com/steam/apps/...</td>\n",
       "      <td>http://rainbowsixgame.us.ubi.com/home.php</td>\n",
       "      <td>NaN</td>\n",
       "      <td>NaN</td>\n",
       "      <td>1</td>\n",
       "      <td>0</td>\n",
       "      <td>0</td>\n",
       "      <td>78</td>\n",
       "      <td>http://www.metacritic.com/game/pc/tom-clancys-...</td>\n",
       "      <td>3891</td>\n",
       "      <td>689</td>\n",
       "      <td>NaN</td>\n",
       "      <td>0</td>\n",
       "      <td>3973</td>\n",
       "      <td>NaN</td>\n",
       "      <td>1126</td>\n",
       "      <td>0</td>\n",
       "      <td>308</td>\n",
       "      <td>0</td>\n",
       "      <td>Ubisoft Montreal</td>\n",
       "      <td>Ubisoft</td>\n",
       "      <td>Single-player,Multi-player,Co-op</td>\n",
       "      <td>Action</td>\n",
       "      <td>Tactical,Action,FPS,Co-op,Singleplayer,Online ...</td>\n",
       "      <td>https://cdn.akamai.steamstatic.com/steam/apps/...</td>\n",
       "      <td>http://cdn.akamai.steamstatic.com/steam/apps/5...</td>\n",
       "      <td>2008</td>\n",
       "      <td>4</td>\n",
       "      <td>16</td>\n",
       "      <td>5</td>\n",
       "      <td>1</td>\n",
       "      <td>20</td>\n",
       "      <td>1</td>\n",
       "      <td>3</td>\n",
       "      <td>750000</td>\n",
       "      <td>17</td>\n",
       "      <td>0.000000</td>\n",
       "    </tr>\n",
       "    <tr>\n",
       "      <th>41092</th>\n",
       "      <td>13570</td>\n",
       "      <td>Tom Clancy's Splinter Cell Chaos Theory®</td>\n",
       "      <td>200000 - 500000</td>\n",
       "      <td>33</td>\n",
       "      <td>0</td>\n",
       "      <td>9.99</td>\n",
       "      <td>0</td>\n",
       "      <td>The year is 2008. Citywide blackouts ... stock...</td>\n",
       "      <td>['English', 'French', 'German', 'Spanish - Spa...</td>\n",
       "      <td>[]</td>\n",
       "      <td>NaN</td>\n",
       "      <td>https://cdn.akamai.steamstatic.com/steam/apps/...</td>\n",
       "      <td>http://splintercell.us.ubi.com/</td>\n",
       "      <td>NaN</td>\n",
       "      <td>NaN</td>\n",
       "      <td>1</td>\n",
       "      <td>0</td>\n",
       "      <td>0</td>\n",
       "      <td>92</td>\n",
       "      <td>http://www.metacritic.com/game/pc/tom-clancys-...</td>\n",
       "      <td>3359</td>\n",
       "      <td>233</td>\n",
       "      <td>NaN</td>\n",
       "      <td>0</td>\n",
       "      <td>3301</td>\n",
       "      <td>NaN</td>\n",
       "      <td>181</td>\n",
       "      <td>0</td>\n",
       "      <td>188</td>\n",
       "      <td>0</td>\n",
       "      <td>Ubisoft Montreal</td>\n",
       "      <td>Ubisoft</td>\n",
       "      <td>Single-player</td>\n",
       "      <td>Action</td>\n",
       "      <td>Stealth,Action,Third Person,Classic,Co-op,Grea...</td>\n",
       "      <td>https://cdn.akamai.steamstatic.com/steam/apps/...</td>\n",
       "      <td>NaN</td>\n",
       "      <td>2009</td>\n",
       "      <td>8</td>\n",
       "      <td>27</td>\n",
       "      <td>5</td>\n",
       "      <td>1</td>\n",
       "      <td>17</td>\n",
       "      <td>1</td>\n",
       "      <td>1</td>\n",
       "      <td>350000</td>\n",
       "      <td>16</td>\n",
       "      <td>0.000000</td>\n",
       "    </tr>\n",
       "    <tr>\n",
       "      <th>8818</th>\n",
       "      <td>33220</td>\n",
       "      <td>Tom Clancy's Splinter Cell Conviction™</td>\n",
       "      <td>100000 - 200000</td>\n",
       "      <td>27</td>\n",
       "      <td>17</td>\n",
       "      <td>19.99</td>\n",
       "      <td>1</td>\n",
       "      <td>An investigation into his daughter’s death unw...</td>\n",
       "      <td>['English', 'French', 'German', 'Italian', 'Sp...</td>\n",
       "      <td>[]</td>\n",
       "      <td>NaN</td>\n",
       "      <td>https://cdn.akamai.steamstatic.com/steam/apps/...</td>\n",
       "      <td>http://splintercell.us.ubi.com/conviction/</td>\n",
       "      <td>NaN</td>\n",
       "      <td>NaN</td>\n",
       "      <td>1</td>\n",
       "      <td>0</td>\n",
       "      <td>0</td>\n",
       "      <td>83</td>\n",
       "      <td>https://www.metacritic.com/game/pc/tom-clancys...</td>\n",
       "      <td>2368</td>\n",
       "      <td>925</td>\n",
       "      <td>NaN</td>\n",
       "      <td>0</td>\n",
       "      <td>2925</td>\n",
       "      <td>NaN</td>\n",
       "      <td>794</td>\n",
       "      <td>0</td>\n",
       "      <td>349</td>\n",
       "      <td>0</td>\n",
       "      <td>Ubisoft Montreal</td>\n",
       "      <td>Ubisoft</td>\n",
       "      <td>Single-player,Multi-player,Co-op,Partial Contr...</td>\n",
       "      <td>Action</td>\n",
       "      <td>Action,Co-op,Stealth,Multiplayer,Singleplayer,...</td>\n",
       "      <td>https://cdn.akamai.steamstatic.com/steam/apps/...</td>\n",
       "      <td>NaN</td>\n",
       "      <td>2010</td>\n",
       "      <td>4</td>\n",
       "      <td>29</td>\n",
       "      <td>5</td>\n",
       "      <td>1</td>\n",
       "      <td>6</td>\n",
       "      <td>1</td>\n",
       "      <td>4</td>\n",
       "      <td>150000</td>\n",
       "      <td>15</td>\n",
       "      <td>0.000000</td>\n",
       "    </tr>\n",
       "    <tr>\n",
       "      <th>7997</th>\n",
       "      <td>33229</td>\n",
       "      <td>Tom Clancy's Splinter Cell Conviction™ Deluxe ...</td>\n",
       "      <td>0 - 20000</td>\n",
       "      <td>0</td>\n",
       "      <td>17</td>\n",
       "      <td>19.99</td>\n",
       "      <td>1</td>\n",
       "      <td>An investigation into his daughter’s death unw...</td>\n",
       "      <td>['English', 'French', 'German', 'Italian', 'Sp...</td>\n",
       "      <td>[]</td>\n",
       "      <td>NaN</td>\n",
       "      <td>https://cdn.akamai.steamstatic.com/steam/apps/...</td>\n",
       "      <td>http://splintercell.us.ubi.com/conviction/</td>\n",
       "      <td>NaN</td>\n",
       "      <td>NaN</td>\n",
       "      <td>1</td>\n",
       "      <td>0</td>\n",
       "      <td>0</td>\n",
       "      <td>83</td>\n",
       "      <td>https://www.metacritic.com/game/pc/tom-clancys...</td>\n",
       "      <td>2368</td>\n",
       "      <td>925</td>\n",
       "      <td>NaN</td>\n",
       "      <td>0</td>\n",
       "      <td>2925</td>\n",
       "      <td>NaN</td>\n",
       "      <td>0</td>\n",
       "      <td>0</td>\n",
       "      <td>0</td>\n",
       "      <td>0</td>\n",
       "      <td>Ubisoft Montreal</td>\n",
       "      <td>Ubisoft</td>\n",
       "      <td>Single-player,Multi-player</td>\n",
       "      <td>Action</td>\n",
       "      <td>Action,Co-op,Stealth,Multiplayer,Singleplayer,...</td>\n",
       "      <td>https://cdn.akamai.steamstatic.com/steam/apps/...</td>\n",
       "      <td>NaN</td>\n",
       "      <td>2010</td>\n",
       "      <td>4</td>\n",
       "      <td>29</td>\n",
       "      <td>5</td>\n",
       "      <td>1</td>\n",
       "      <td>6</td>\n",
       "      <td>1</td>\n",
       "      <td>2</td>\n",
       "      <td>10000</td>\n",
       "      <td>15</td>\n",
       "      <td>0.000000</td>\n",
       "    </tr>\n",
       "    <tr>\n",
       "      <th>30468</th>\n",
       "      <td>13580</td>\n",
       "      <td>Tom Clancy's Splinter Cell Double Agent®</td>\n",
       "      <td>200000 - 500000</td>\n",
       "      <td>7</td>\n",
       "      <td>17</td>\n",
       "      <td>9.99</td>\n",
       "      <td>0</td>\n",
       "      <td>The best-selling Tom Clancy's Splinter Cell® s...</td>\n",
       "      <td>['English', 'French', 'German', 'Italian', 'Sp...</td>\n",
       "      <td>[]</td>\n",
       "      <td>NaN</td>\n",
       "      <td>https://cdn.akamai.steamstatic.com/steam/apps/...</td>\n",
       "      <td>http://splintercell.us.ubi.com/</td>\n",
       "      <td>NaN</td>\n",
       "      <td>NaN</td>\n",
       "      <td>1</td>\n",
       "      <td>0</td>\n",
       "      <td>0</td>\n",
       "      <td>80</td>\n",
       "      <td>http://www.metacritic.com/game/pc/tom-clancys-...</td>\n",
       "      <td>510</td>\n",
       "      <td>773</td>\n",
       "      <td>NaN</td>\n",
       "      <td>0</td>\n",
       "      <td>1185</td>\n",
       "      <td>NaN</td>\n",
       "      <td>138</td>\n",
       "      <td>0</td>\n",
       "      <td>158</td>\n",
       "      <td>0</td>\n",
       "      <td>Ubisoft Montreal</td>\n",
       "      <td>Ubisoft</td>\n",
       "      <td>Single-player</td>\n",
       "      <td>Action</td>\n",
       "      <td>Action,Stealth,Third Person,Singleplayer,Multi...</td>\n",
       "      <td>https://cdn.akamai.steamstatic.com/steam/apps/...</td>\n",
       "      <td>NaN</td>\n",
       "      <td>2009</td>\n",
       "      <td>2</td>\n",
       "      <td>13</td>\n",
       "      <td>5</td>\n",
       "      <td>1</td>\n",
       "      <td>8</td>\n",
       "      <td>1</td>\n",
       "      <td>1</td>\n",
       "      <td>350000</td>\n",
       "      <td>16</td>\n",
       "      <td>0.000000</td>\n",
       "    </tr>\n",
       "    <tr>\n",
       "      <th>9805</th>\n",
       "      <td>13560</td>\n",
       "      <td>Tom Clancy's Splinter Cell®</td>\n",
       "      <td>200000 - 500000</td>\n",
       "      <td>29</td>\n",
       "      <td>0</td>\n",
       "      <td>9.99</td>\n",
       "      <td>0</td>\n",
       "      <td>Infiltrate terrorists' positions, acquire crit...</td>\n",
       "      <td>['English', 'French']</td>\n",
       "      <td>[]</td>\n",
       "      <td>NaN</td>\n",
       "      <td>https://cdn.akamai.steamstatic.com/steam/apps/...</td>\n",
       "      <td>http://splintercell.us.ubi.com/</td>\n",
       "      <td>https://support.ubi.com/en-US/</td>\n",
       "      <td>NaN</td>\n",
       "      <td>1</td>\n",
       "      <td>0</td>\n",
       "      <td>0</td>\n",
       "      <td>91</td>\n",
       "      <td>https://www.metacritic.com/game/pc/tom-clancys...</td>\n",
       "      <td>1929</td>\n",
       "      <td>280</td>\n",
       "      <td>NaN</td>\n",
       "      <td>0</td>\n",
       "      <td>2091</td>\n",
       "      <td>NaN</td>\n",
       "      <td>293</td>\n",
       "      <td>0</td>\n",
       "      <td>341</td>\n",
       "      <td>0</td>\n",
       "      <td>Ubisoft</td>\n",
       "      <td>Ubisoft</td>\n",
       "      <td>Single-player</td>\n",
       "      <td>Action</td>\n",
       "      <td>Stealth,Action,Third Person,Singleplayer,Class...</td>\n",
       "      <td>https://cdn.akamai.steamstatic.com/steam/apps/...</td>\n",
       "      <td>NaN</td>\n",
       "      <td>2008</td>\n",
       "      <td>4</td>\n",
       "      <td>1</td>\n",
       "      <td>2</td>\n",
       "      <td>1</td>\n",
       "      <td>15</td>\n",
       "      <td>1</td>\n",
       "      <td>1</td>\n",
       "      <td>350000</td>\n",
       "      <td>17</td>\n",
       "      <td>0.000000</td>\n",
       "    </tr>\n",
       "    <tr>\n",
       "      <th>74843</th>\n",
       "      <td>2379390</td>\n",
       "      <td>Tom Clancy’s Rainbow Six® Extraction</td>\n",
       "      <td>50000 - 100000</td>\n",
       "      <td>1957</td>\n",
       "      <td>0</td>\n",
       "      <td>10.00</td>\n",
       "      <td>1</td>\n",
       "      <td>Tom Clancy’s Rainbow Six® Extraction is a tact...</td>\n",
       "      <td>['English', 'French', 'Italian', 'German', 'Sp...</td>\n",
       "      <td>['English', 'French', 'Italian', 'German', 'Sp...</td>\n",
       "      <td>“Explosive, exhilarating, and endlessly entert...</td>\n",
       "      <td>https://cdn.akamai.steamstatic.com/steam/apps/...</td>\n",
       "      <td>NaN</td>\n",
       "      <td>https://www.ubisoft.com/en-us/help/game/rainbo...</td>\n",
       "      <td>NaN</td>\n",
       "      <td>1</td>\n",
       "      <td>0</td>\n",
       "      <td>0</td>\n",
       "      <td>0</td>\n",
       "      <td>NaN</td>\n",
       "      <td>237</td>\n",
       "      <td>140</td>\n",
       "      <td>NaN</td>\n",
       "      <td>0</td>\n",
       "      <td>461</td>\n",
       "      <td>This is a first-person shooter in which player...</td>\n",
       "      <td>69</td>\n",
       "      <td>69</td>\n",
       "      <td>69</td>\n",
       "      <td>69</td>\n",
       "      <td>Ubisoft Montreal</td>\n",
       "      <td>Ubisoft</td>\n",
       "      <td>Single-player,Multi-player,Co-op,Online Co-op,...</td>\n",
       "      <td>Action</td>\n",
       "      <td>Action,FPS,Online Co-Op,PvE,Shooter,First-Pers...</td>\n",
       "      <td>https://cdn.akamai.steamstatic.com/steam/apps/...</td>\n",
       "      <td>http://cdn.akamai.steamstatic.com/steam/apps/2...</td>\n",
       "      <td>2023</td>\n",
       "      <td>6</td>\n",
       "      <td>15</td>\n",
       "      <td>16</td>\n",
       "      <td>10</td>\n",
       "      <td>18</td>\n",
       "      <td>1</td>\n",
       "      <td>6</td>\n",
       "      <td>75000</td>\n",
       "      <td>2</td>\n",
       "      <td>1.082918</td>\n",
       "    </tr>\n",
       "    <tr>\n",
       "      <th>44589</th>\n",
       "      <td>235600</td>\n",
       "      <td>Tom Clancy’s Splinter Cell Blacklist</td>\n",
       "      <td>1000000 - 2000000</td>\n",
       "      <td>140</td>\n",
       "      <td>0</td>\n",
       "      <td>29.99</td>\n",
       "      <td>0</td>\n",
       "      <td>The United States has a military presence in t...</td>\n",
       "      <td>['English', 'German', 'French', 'Italian', 'Sp...</td>\n",
       "      <td>['English', 'German', 'French', 'Italian', 'Sp...</td>\n",
       "      <td>“Blacklist gets stealth right.” 9.2 / 10 – “Fi...</td>\n",
       "      <td>https://cdn.akamai.steamstatic.com/steam/apps/...</td>\n",
       "      <td>http://www.splintercell.com</td>\n",
       "      <td>http://www.support.ubi.com</td>\n",
       "      <td>NaN</td>\n",
       "      <td>1</td>\n",
       "      <td>0</td>\n",
       "      <td>0</td>\n",
       "      <td>0</td>\n",
       "      <td>NaN</td>\n",
       "      <td>13781</td>\n",
       "      <td>2778</td>\n",
       "      <td>NaN</td>\n",
       "      <td>0</td>\n",
       "      <td>14396</td>\n",
       "      <td>NaN</td>\n",
       "      <td>3115</td>\n",
       "      <td>0</td>\n",
       "      <td>844</td>\n",
       "      <td>0</td>\n",
       "      <td>Ubisoft Toronto</td>\n",
       "      <td>Ubisoft</td>\n",
       "      <td>Single-player,Multi-player,Co-op</td>\n",
       "      <td>Action,Adventure</td>\n",
       "      <td>Stealth,Action,Co-op,Third Person,Multiplayer,...</td>\n",
       "      <td>https://cdn.akamai.steamstatic.com/steam/apps/...</td>\n",
       "      <td>http://cdn.akamai.steamstatic.com/steam/apps/2...</td>\n",
       "      <td>2013</td>\n",
       "      <td>8</td>\n",
       "      <td>20</td>\n",
       "      <td>16</td>\n",
       "      <td>8</td>\n",
       "      <td>20</td>\n",
       "      <td>2</td>\n",
       "      <td>3</td>\n",
       "      <td>1500000</td>\n",
       "      <td>12</td>\n",
       "      <td>0.000000</td>\n",
       "    </tr>\n",
       "    <tr>\n",
       "      <th>68382</th>\n",
       "      <td>2221490</td>\n",
       "      <td>Tom Clancy’s The Division® 2</td>\n",
       "      <td>50000 - 100000</td>\n",
       "      <td>9026</td>\n",
       "      <td>17</td>\n",
       "      <td>9.00</td>\n",
       "      <td>1</td>\n",
       "      <td>HISTORY WILL REMEMBER In Tom Clancy’s The Divi...</td>\n",
       "      <td>['English', 'French', 'Italian', 'German', 'Sp...</td>\n",
       "      <td>['English', 'French', 'Italian', 'German', 'Sp...</td>\n",
       "      <td>NaN</td>\n",
       "      <td>https://cdn.akamai.steamstatic.com/steam/apps/...</td>\n",
       "      <td>https://www.ubisoft.com/en-gb/game/the-division</td>\n",
       "      <td>https://www.ubisoft.com/en-gb/game/the-division</td>\n",
       "      <td>NaN</td>\n",
       "      <td>1</td>\n",
       "      <td>0</td>\n",
       "      <td>0</td>\n",
       "      <td>0</td>\n",
       "      <td>NaN</td>\n",
       "      <td>528</td>\n",
       "      <td>414</td>\n",
       "      <td>NaN</td>\n",
       "      <td>0</td>\n",
       "      <td>1071</td>\n",
       "      <td>NaN</td>\n",
       "      <td>29</td>\n",
       "      <td>29</td>\n",
       "      <td>29</td>\n",
       "      <td>29</td>\n",
       "      <td>Ubisoft</td>\n",
       "      <td>Ubisoft</td>\n",
       "      <td>Single-player,Multi-player,PvP,Online PvP,Co-o...</td>\n",
       "      <td>Action,Adventure,RPG</td>\n",
       "      <td>Action,Adventure,Third-Person Shooter,Multipla...</td>\n",
       "      <td>https://cdn.akamai.steamstatic.com/steam/apps/...</td>\n",
       "      <td>NaN</td>\n",
       "      <td>2023</td>\n",
       "      <td>1</td>\n",
       "      <td>12</td>\n",
       "      <td>14</td>\n",
       "      <td>11</td>\n",
       "      <td>11</td>\n",
       "      <td>3</td>\n",
       "      <td>8</td>\n",
       "      <td>75000</td>\n",
       "      <td>2</td>\n",
       "      <td>1.061992</td>\n",
       "    </tr>\n",
       "    <tr>\n",
       "      <th>45434</th>\n",
       "      <td>365590</td>\n",
       "      <td>Tom Clancy’s The Division™</td>\n",
       "      <td>2000000 - 5000000</td>\n",
       "      <td>560</td>\n",
       "      <td>17</td>\n",
       "      <td>29.99</td>\n",
       "      <td>11</td>\n",
       "      <td>During Black Friday, a devastating pandemic sw...</td>\n",
       "      <td>['English', 'French', 'Italian', 'German', 'Sp...</td>\n",
       "      <td>['English', 'French', 'Italian', 'German', 'Sp...</td>\n",
       "      <td>NaN</td>\n",
       "      <td>https://cdn.akamai.steamstatic.com/steam/apps/...</td>\n",
       "      <td>http://thedivisiongame.com</td>\n",
       "      <td>https://support.ubi.com/</td>\n",
       "      <td>NaN</td>\n",
       "      <td>1</td>\n",
       "      <td>0</td>\n",
       "      <td>0</td>\n",
       "      <td>0</td>\n",
       "      <td>NaN</td>\n",
       "      <td>59837</td>\n",
       "      <td>26719</td>\n",
       "      <td>NaN</td>\n",
       "      <td>0</td>\n",
       "      <td>67149</td>\n",
       "      <td>NaN</td>\n",
       "      <td>5115</td>\n",
       "      <td>0</td>\n",
       "      <td>1826</td>\n",
       "      <td>0</td>\n",
       "      <td>Massive Entertainment</td>\n",
       "      <td>Ubisoft</td>\n",
       "      <td>Single-player,Multi-player,Co-op,Steam Trading...</td>\n",
       "      <td>Action,Adventure,RPG</td>\n",
       "      <td>Open World,Looter Shooter,Multiplayer,Third-Pe...</td>\n",
       "      <td>https://cdn.akamai.steamstatic.com/steam/apps/...</td>\n",
       "      <td>http://cdn.akamai.steamstatic.com/steam/apps/2...</td>\n",
       "      <td>2016</td>\n",
       "      <td>3</td>\n",
       "      <td>7</td>\n",
       "      <td>15</td>\n",
       "      <td>8</td>\n",
       "      <td>20</td>\n",
       "      <td>3</td>\n",
       "      <td>5</td>\n",
       "      <td>3500000</td>\n",
       "      <td>9</td>\n",
       "      <td>0.000000</td>\n",
       "    </tr>\n",
       "  </tbody>\n",
       "</table>\n",
       "</div>"
      ],
      "text/plain": [
       "         appid                                               name  \\\n",
       "25075    21800                               Tom Clancy's EndWar™   \n",
       "49691   212630          Tom Clancy's Ghost Recon: Future Soldier™   \n",
       "40814    15300                          Tom Clancy's Ghost Recon®   \n",
       "69053  2231380               Tom Clancy's Ghost Recon® Breakpoint   \n",
       "16755    13620            Tom Clancy's Ghost Recon® Desert Siege™   \n",
       "38378    13630          Tom Clancy's Ghost Recon® Island Thunder™   \n",
       "30756   460930                Tom Clancy's Ghost Recon® Wildlands   \n",
       "32548    15000                 Tom Clancy's Rainbow Six Lockdown™   \n",
       "4062     19830                   Tom Clancy's Rainbow Six® 3 Gold   \n",
       "8256    359550                    Tom Clancy's Rainbow Six® Siege   \n",
       "11657    13540                    Tom Clancy's Rainbow Six® Vegas   \n",
       "32103    15120                  Tom Clancy's Rainbow Six® Vegas 2   \n",
       "41092    13570           Tom Clancy's Splinter Cell Chaos Theory®   \n",
       "8818     33220             Tom Clancy's Splinter Cell Conviction™   \n",
       "7997     33229  Tom Clancy's Splinter Cell Conviction™ Deluxe ...   \n",
       "30468    13580           Tom Clancy's Splinter Cell Double Agent®   \n",
       "9805     13560                        Tom Clancy's Splinter Cell®   \n",
       "74843  2379390               Tom Clancy’s Rainbow Six® Extraction   \n",
       "44589   235600               Tom Clancy’s Splinter Cell Blacklist   \n",
       "68382  2221490                       Tom Clancy’s The Division® 2   \n",
       "45434   365590                         Tom Clancy’s The Division™   \n",
       "\n",
       "          estimated_owners  peak_concurrent_users  required_age  price  \\\n",
       "25075      100000 - 200000                     19             0   9.99   \n",
       "49691      200000 - 500000                     16            17  19.99   \n",
       "40814      200000 - 500000                     16            17   9.99   \n",
       "69053       50000 - 100000                   9048            17  12.00   \n",
       "16755      200000 - 500000                      3            17   4.99   \n",
       "38378        20000 - 50000                      2             0   4.99   \n",
       "30756    2000000 - 5000000                   2144             0  49.99   \n",
       "32548      100000 - 200000                      1            17   9.99   \n",
       "4062       200000 - 500000                     21             0   9.99   \n",
       "8256   20000000 - 50000000                  42263            17  19.99   \n",
       "11657      100000 - 200000                      9            17   9.99   \n",
       "32103     500000 - 1000000                     46            17   9.99   \n",
       "41092      200000 - 500000                     33             0   9.99   \n",
       "8818       100000 - 200000                     27            17  19.99   \n",
       "7997             0 - 20000                      0            17  19.99   \n",
       "30468      200000 - 500000                      7            17   9.99   \n",
       "9805       200000 - 500000                     29             0   9.99   \n",
       "74843       50000 - 100000                   1957             0  10.00   \n",
       "44589    1000000 - 2000000                    140             0  29.99   \n",
       "68382       50000 - 100000                   9026            17   9.00   \n",
       "45434    2000000 - 5000000                    560            17  29.99   \n",
       "\n",
       "       discountdlc_count                                     about_the_game  \\\n",
       "25075                  0  Live the thrilling career of an army commander...   \n",
       "49691                  4  There is nothing fair, honorable, or just abou...   \n",
       "40814                  0  Eastern Europe, 2008. War has broken out on th...   \n",
       "69053                  1  Explore a treacherous archipelago Explore Auro...   \n",
       "16755                  0  East Africa, 2009. A 60-year conflict boils ov...   \n",
       "38378                  0  Ghost Recon takes the next step in battlefield...   \n",
       "30756                  4  Create a team with up to 3 friends in Tom Clan...   \n",
       "32548                  0  Engineered specifically for the PC by Red Stor...   \n",
       "4062                   0  Raven Shield: Command an elite multinational s...   \n",
       "8256                  11  Master the art of destruction and gadgetry in ...   \n",
       "11657                  0  Tom Clancy's Rainbow Six makes its next-genera...   \n",
       "32103                  0  Tom Clancy's Rainbow Six® Vegas 2 - the sequel...   \n",
       "41092                  0  The year is 2008. Citywide blackouts ... stock...   \n",
       "8818                   1  An investigation into his daughter’s death unw...   \n",
       "7997                   1  An investigation into his daughter’s death unw...   \n",
       "30468                  0  The best-selling Tom Clancy's Splinter Cell® s...   \n",
       "9805                   0  Infiltrate terrorists' positions, acquire crit...   \n",
       "74843                  1  Tom Clancy’s Rainbow Six® Extraction is a tact...   \n",
       "44589                  0  The United States has a military presence in t...   \n",
       "68382                  1  HISTORY WILL REMEMBER In Tom Clancy’s The Divi...   \n",
       "45434                 11  During Black Friday, a devastating pandemic sw...   \n",
       "\n",
       "                                     supported_languages  \\\n",
       "25075  ['English', 'French', 'German', 'Italian', 'Sp...   \n",
       "49691  ['English', 'Danish', 'Dutch', 'French', 'Germ...   \n",
       "40814                                        ['English']   \n",
       "69053  ['English', 'French', 'Italian', 'German', 'Sp...   \n",
       "16755                                        ['English']   \n",
       "38378                                        ['English']   \n",
       "30756  ['English', 'French', 'Italian', 'German', 'Sp...   \n",
       "32548                                        ['English']   \n",
       "4062                                         ['English']   \n",
       "8256   ['English', 'French', 'Italian', 'German', 'Sp...   \n",
       "11657                              ['English', 'French']   \n",
       "32103  ['English', 'French', 'Italian', 'German', 'Sp...   \n",
       "41092  ['English', 'French', 'German', 'Spanish - Spa...   \n",
       "8818   ['English', 'French', 'German', 'Italian', 'Sp...   \n",
       "7997   ['English', 'French', 'German', 'Italian', 'Sp...   \n",
       "30468  ['English', 'French', 'German', 'Italian', 'Sp...   \n",
       "9805                               ['English', 'French']   \n",
       "74843  ['English', 'French', 'Italian', 'German', 'Sp...   \n",
       "44589  ['English', 'German', 'French', 'Italian', 'Sp...   \n",
       "68382  ['English', 'French', 'Italian', 'German', 'Sp...   \n",
       "45434  ['English', 'French', 'Italian', 'German', 'Sp...   \n",
       "\n",
       "                                    full_audio_languages  \\\n",
       "25075                                                 []   \n",
       "49691  ['English', 'French', 'German', 'Italian', 'Sp...   \n",
       "40814                                                 []   \n",
       "69053  ['English', 'French', 'Italian', 'German', 'Sp...   \n",
       "16755                                                 []   \n",
       "38378                                                 []   \n",
       "30756  ['English', 'French', 'Italian', 'German', 'Sp...   \n",
       "32548                                                 []   \n",
       "4062                                                  []   \n",
       "8256   ['English', 'French', 'Italian', 'German', 'Sp...   \n",
       "11657                                                 []   \n",
       "32103                                                 []   \n",
       "41092                                                 []   \n",
       "8818                                                  []   \n",
       "7997                                                  []   \n",
       "30468                                                 []   \n",
       "9805                                                  []   \n",
       "74843  ['English', 'French', 'Italian', 'German', 'Sp...   \n",
       "44589  ['English', 'German', 'French', 'Italian', 'Sp...   \n",
       "68382  ['English', 'French', 'Italian', 'German', 'Sp...   \n",
       "45434  ['English', 'French', 'Italian', 'German', 'Sp...   \n",
       "\n",
       "                                                 reviews  \\\n",
       "25075                                                NaN   \n",
       "49691                                                NaN   \n",
       "40814                                                NaN   \n",
       "69053                                                NaN   \n",
       "16755                                                NaN   \n",
       "38378                                                NaN   \n",
       "30756                                                NaN   \n",
       "32548                                                NaN   \n",
       "4062                                                 NaN   \n",
       "8256                                                 NaN   \n",
       "11657                                                NaN   \n",
       "32103                                                NaN   \n",
       "41092                                                NaN   \n",
       "8818                                                 NaN   \n",
       "7997                                                 NaN   \n",
       "30468                                                NaN   \n",
       "9805                                                 NaN   \n",
       "74843  “Explosive, exhilarating, and endlessly entert...   \n",
       "44589  “Blacklist gets stealth right.” 9.2 / 10 – “Fi...   \n",
       "68382                                                NaN   \n",
       "45434                                                NaN   \n",
       "\n",
       "                                            header_image  \\\n",
       "25075  https://cdn.akamai.steamstatic.com/steam/apps/...   \n",
       "49691  https://cdn.akamai.steamstatic.com/steam/apps/...   \n",
       "40814  https://cdn.akamai.steamstatic.com/steam/apps/...   \n",
       "69053  https://cdn.akamai.steamstatic.com/steam/apps/...   \n",
       "16755  https://cdn.akamai.steamstatic.com/steam/apps/...   \n",
       "38378  https://cdn.akamai.steamstatic.com/steam/apps/...   \n",
       "30756  https://cdn.akamai.steamstatic.com/steam/apps/...   \n",
       "32548  https://cdn.akamai.steamstatic.com/steam/apps/...   \n",
       "4062   https://cdn.akamai.steamstatic.com/steam/apps/...   \n",
       "8256   https://cdn.akamai.steamstatic.com/steam/apps/...   \n",
       "11657  https://cdn.akamai.steamstatic.com/steam/apps/...   \n",
       "32103  https://cdn.akamai.steamstatic.com/steam/apps/...   \n",
       "41092  https://cdn.akamai.steamstatic.com/steam/apps/...   \n",
       "8818   https://cdn.akamai.steamstatic.com/steam/apps/...   \n",
       "7997   https://cdn.akamai.steamstatic.com/steam/apps/...   \n",
       "30468  https://cdn.akamai.steamstatic.com/steam/apps/...   \n",
       "9805   https://cdn.akamai.steamstatic.com/steam/apps/...   \n",
       "74843  https://cdn.akamai.steamstatic.com/steam/apps/...   \n",
       "44589  https://cdn.akamai.steamstatic.com/steam/apps/...   \n",
       "68382  https://cdn.akamai.steamstatic.com/steam/apps/...   \n",
       "45434  https://cdn.akamai.steamstatic.com/steam/apps/...   \n",
       "\n",
       "                                               website  \\\n",
       "25075                    http://endwargame.us.ubi.com/   \n",
       "49691                       http://www.ghostrecon.com/   \n",
       "40814                    http://ghostrecon.us.ubi.com/   \n",
       "69053                 https://ghost-recon.ubisoft.com/   \n",
       "16755    http://www.ghostrecon.com/us/product_grds.php   \n",
       "38378    http://www.ghostrecon.com/us/product_grit.php   \n",
       "30756                            http://ghostrecon.com   \n",
       "32548                                              NaN   \n",
       "4062                                               NaN   \n",
       "8256                          http://rainbow6.ubi.com/   \n",
       "11657          http://rainbowsixgame.uk.ubi.com/vegas/   \n",
       "32103        http://rainbowsixgame.us.ubi.com/home.php   \n",
       "41092                  http://splintercell.us.ubi.com/   \n",
       "8818        http://splintercell.us.ubi.com/conviction/   \n",
       "7997        http://splintercell.us.ubi.com/conviction/   \n",
       "30468                  http://splintercell.us.ubi.com/   \n",
       "9805                   http://splintercell.us.ubi.com/   \n",
       "74843                                              NaN   \n",
       "44589                      http://www.splintercell.com   \n",
       "68382  https://www.ubisoft.com/en-gb/game/the-division   \n",
       "45434                       http://thedivisiongame.com   \n",
       "\n",
       "                                             support_url support_email  \\\n",
       "25075                                                NaN           NaN   \n",
       "49691                           https://support.ubi.com/           NaN   \n",
       "40814                                                NaN           NaN   \n",
       "69053                           https://support.ubi.com/           NaN   \n",
       "16755                                                NaN           NaN   \n",
       "38378                                                NaN           NaN   \n",
       "30756                           https://support.ubi.com/           NaN   \n",
       "32548                                                NaN           NaN   \n",
       "4062                                                 NaN           NaN   \n",
       "8256                              http://support.ubi.com           NaN   \n",
       "11657                                                NaN           NaN   \n",
       "32103                                                NaN           NaN   \n",
       "41092                                                NaN           NaN   \n",
       "8818                                                 NaN           NaN   \n",
       "7997                                                 NaN           NaN   \n",
       "30468                                                NaN           NaN   \n",
       "9805                      https://support.ubi.com/en-US/           NaN   \n",
       "74843  https://www.ubisoft.com/en-us/help/game/rainbo...           NaN   \n",
       "44589                         http://www.support.ubi.com           NaN   \n",
       "68382    https://www.ubisoft.com/en-gb/game/the-division           NaN   \n",
       "45434                           https://support.ubi.com/           NaN   \n",
       "\n",
       "       windows  mac  linux  metacritic_score  \\\n",
       "25075        1    0      0                68   \n",
       "49691        1    0      0                71   \n",
       "40814        1    0      0                80   \n",
       "69053        1    0      0                 0   \n",
       "16755        1    0      0                82   \n",
       "38378        1    0      0                82   \n",
       "30756        1    0      0                 0   \n",
       "32548        1    0      0                59   \n",
       "4062         1    0      0                85   \n",
       "8256         1    0      0                 0   \n",
       "11657        1    0      0                85   \n",
       "32103        1    0      0                78   \n",
       "41092        1    0      0                92   \n",
       "8818         1    0      0                83   \n",
       "7997         1    0      0                83   \n",
       "30468        1    0      0                80   \n",
       "9805         1    0      0                91   \n",
       "74843        1    0      0                 0   \n",
       "44589        1    0      0                 0   \n",
       "68382        1    0      0                 0   \n",
       "45434        1    0      0                 0   \n",
       "\n",
       "                                          metacritic_url  positive  negative  \\\n",
       "25075  https://www.metacritic.com/game/pc/tom-clancys...       539       143   \n",
       "49691  https://www.metacritic.com/game/pc/tom-clancys...      3045      1478   \n",
       "40814  https://www.metacritic.com/game/pc/tom-clancys...       992        76   \n",
       "69053                                                NaN       864       824   \n",
       "16755  https://www.metacritic.com/game/pc/tom-clancys...        82         5   \n",
       "38378  https://www.metacritic.com/game/pc/tom-clancys...        81        12   \n",
       "30756                                                NaN     53673     14411   \n",
       "32548  https://www.metacritic.com/game/pc/tom-clancys...       185       134   \n",
       "4062   https://www.metacritic.com/game/pc/tom-clancys...      1353       118   \n",
       "8256                                                 NaN    929372    138530   \n",
       "11657  http://www.metacritic.com/game/pc/tom-clancys-...       744       196   \n",
       "32103  http://www.metacritic.com/game/pc/tom-clancys-...      3891       689   \n",
       "41092  http://www.metacritic.com/game/pc/tom-clancys-...      3359       233   \n",
       "8818   https://www.metacritic.com/game/pc/tom-clancys...      2368       925   \n",
       "7997   https://www.metacritic.com/game/pc/tom-clancys...      2368       925   \n",
       "30468  http://www.metacritic.com/game/pc/tom-clancys-...       510       773   \n",
       "9805   https://www.metacritic.com/game/pc/tom-clancys...      1929       280   \n",
       "74843                                                NaN       237       140   \n",
       "44589                                                NaN     13781      2778   \n",
       "68382                                                NaN       528       414   \n",
       "45434                                                NaN     59837     26719   \n",
       "\n",
       "       score_rank  achievements  recommendations  \\\n",
       "25075         NaN             0              643   \n",
       "49691         NaN             0             3885   \n",
       "40814         NaN             0              999   \n",
       "69053         NaN             0             1932   \n",
       "16755         NaN             0                0   \n",
       "38378         NaN             0                0   \n",
       "30756         NaN             0            56248   \n",
       "32548         NaN             0              302   \n",
       "4062          NaN             0             1345   \n",
       "8256          NaN             0           899477   \n",
       "11657         NaN             0              850   \n",
       "32103         NaN             0             3973   \n",
       "41092         NaN             0             3301   \n",
       "8818          NaN             0             2925   \n",
       "7997          NaN             0             2925   \n",
       "30468         NaN             0             1185   \n",
       "9805          NaN             0             2091   \n",
       "74843         NaN             0              461   \n",
       "44589         NaN             0            14396   \n",
       "68382         NaN             0             1071   \n",
       "45434         NaN             0            67149   \n",
       "\n",
       "                                                   notes  \\\n",
       "25075                                                NaN   \n",
       "49691                                                NaN   \n",
       "40814                                                NaN   \n",
       "69053                                                NaN   \n",
       "16755                                                NaN   \n",
       "38378                                                NaN   \n",
       "30756                                                NaN   \n",
       "32548                                                NaN   \n",
       "4062                                                 NaN   \n",
       "8256                                                 NaN   \n",
       "11657                                                NaN   \n",
       "32103                                                NaN   \n",
       "41092                                                NaN   \n",
       "8818                                                 NaN   \n",
       "7997                                                 NaN   \n",
       "30468                                                NaN   \n",
       "9805                                                 NaN   \n",
       "74843  This is a first-person shooter in which player...   \n",
       "44589                                                NaN   \n",
       "68382                                                NaN   \n",
       "45434                                                NaN   \n",
       "\n",
       "       average_playtime_forever  average_playtime_two_weeks  \\\n",
       "25075                       262                           0   \n",
       "49691                       329                           0   \n",
       "40814                        27                           0   \n",
       "69053                       281                         281   \n",
       "16755                         1                           0   \n",
       "38378                         2                           0   \n",
       "30756                      3593                         156   \n",
       "32548                        35                           0   \n",
       "4062                         46                           0   \n",
       "8256                      13837                         707   \n",
       "11657                       352                           0   \n",
       "32103                      1126                           0   \n",
       "41092                       181                           0   \n",
       "8818                        794                           0   \n",
       "7997                          0                           0   \n",
       "30468                       138                           0   \n",
       "9805                        293                           0   \n",
       "74843                        69                          69   \n",
       "44589                      3115                           0   \n",
       "68382                        29                          29   \n",
       "45434                      5115                           0   \n",
       "\n",
       "       median_playtime_forever  median_playtime_two_weeks  \\\n",
       "25075                      467                          0   \n",
       "49691                      206                          0   \n",
       "40814                       30                          0   \n",
       "69053                      338                        338   \n",
       "16755                        1                          0   \n",
       "38378                        2                          0   \n",
       "30756                     1544                        166   \n",
       "32548                       68                          0   \n",
       "4062                        50                          0   \n",
       "8256                      3100                        319   \n",
       "11657                      533                          0   \n",
       "32103                      308                          0   \n",
       "41092                      188                          0   \n",
       "8818                       349                          0   \n",
       "7997                         0                          0   \n",
       "30468                      158                          0   \n",
       "9805                       341                          0   \n",
       "74843                       69                         69   \n",
       "44589                      844                          0   \n",
       "68382                       29                         29   \n",
       "45434                     1826                          0   \n",
       "\n",
       "                                              developers publishers  \\\n",
       "25075                                  Ubisoft  Shanghaï    Ubisoft   \n",
       "49691              Ubisoft Paris,Red Storm Entertainment    Ubisoft   \n",
       "40814                            Red Storm Entertainment    Ubisoft   \n",
       "69053                                      Ubisoft Paris    Ubisoft   \n",
       "16755                            Red Storm Entertainment    Ubisoft   \n",
       "38378                            Red Storm Entertainment    Ubisoft   \n",
       "30756  Ubisoft Paris,Ubisoft Annecy,Ubisoft Bucharest...    Ubisoft   \n",
       "32548                            Red Storm Entertainment    Ubisoft   \n",
       "4062            Red Storm Entertainment,Ubisoft Montreal    Ubisoft   \n",
       "8256                                    Ubisoft Montreal    Ubisoft   \n",
       "11657                                   Ubisoft Montreal    Ubisoft   \n",
       "32103                                   Ubisoft Montreal    Ubisoft   \n",
       "41092                                   Ubisoft Montreal    Ubisoft   \n",
       "8818                                    Ubisoft Montreal    Ubisoft   \n",
       "7997                                    Ubisoft Montreal    Ubisoft   \n",
       "30468                                   Ubisoft Montreal    Ubisoft   \n",
       "9805                                             Ubisoft    Ubisoft   \n",
       "74843                                   Ubisoft Montreal    Ubisoft   \n",
       "44589                                    Ubisoft Toronto    Ubisoft   \n",
       "68382                                            Ubisoft    Ubisoft   \n",
       "45434                              Massive Entertainment    Ubisoft   \n",
       "\n",
       "                                              categories  \\\n",
       "25075                         Single-player,Multi-player   \n",
       "49691                   Single-player,Multi-player,Co-op   \n",
       "40814                                Single-player,Co-op   \n",
       "69053  Single-player,Multi-player,Co-op,Online Co-op,...   \n",
       "16755                         Single-player,Multi-player   \n",
       "38378                                                NaN   \n",
       "30756  Single-player,Multi-player,Co-op,Steam Trading...   \n",
       "32548                         Single-player,Multi-player   \n",
       "4062                                       Single-player   \n",
       "8256   Single-player,Multi-player,PvP,Online PvP,Co-o...   \n",
       "11657                         Single-player,Multi-player   \n",
       "32103                   Single-player,Multi-player,Co-op   \n",
       "41092                                      Single-player   \n",
       "8818   Single-player,Multi-player,Co-op,Partial Contr...   \n",
       "7997                          Single-player,Multi-player   \n",
       "30468                                      Single-player   \n",
       "9805                                       Single-player   \n",
       "74843  Single-player,Multi-player,Co-op,Online Co-op,...   \n",
       "44589                   Single-player,Multi-player,Co-op   \n",
       "68382  Single-player,Multi-player,PvP,Online PvP,Co-o...   \n",
       "45434  Single-player,Multi-player,Co-op,Steam Trading...   \n",
       "\n",
       "                     genres  \\\n",
       "25075              Strategy   \n",
       "49691                Action   \n",
       "40814                Action   \n",
       "69053      Action,Adventure   \n",
       "16755                Action   \n",
       "38378                Action   \n",
       "30756      Action,Adventure   \n",
       "32548                Action   \n",
       "4062                 Action   \n",
       "8256                 Action   \n",
       "11657                Action   \n",
       "32103                Action   \n",
       "41092                Action   \n",
       "8818                 Action   \n",
       "7997                 Action   \n",
       "30468                Action   \n",
       "9805                 Action   \n",
       "74843                Action   \n",
       "44589      Action,Adventure   \n",
       "68382  Action,Adventure,RPG   \n",
       "45434  Action,Adventure,RPG   \n",
       "\n",
       "                                                    tags  \\\n",
       "25075  Strategy,RTS,Tactical,Voice Control,War,Single...   \n",
       "49691  Action,Stealth,Third-Person Shooter,Co-op,Tact...   \n",
       "40814  Tactical,FPS,Action,Simulation,Shooter,Classic...   \n",
       "69053  Action,Adventure,Shooter,Third-Person Shooter,...   \n",
       "16755  Action,Shooter,FPS,First-Person,Tactical,Strategy   \n",
       "38378  Action,Tactical,Shooter,FPS,First-Person,Military   \n",
       "30756  Open World,Shooter,Co-op,Multiplayer,Action,St...   \n",
       "32548  Action,Shooter,FPS,First-Person,Tactical,Multi...   \n",
       "4062   Tactical,FPS,Action,Simulation,Strategy,Realis...   \n",
       "8256   FPS,Hero Shooter,Multiplayer,Tactical,Shooter,...   \n",
       "11657  Action,FPS,Tactical,Co-op,Singleplayer,Shooter...   \n",
       "32103  Tactical,Action,FPS,Co-op,Singleplayer,Online ...   \n",
       "41092  Stealth,Action,Third Person,Classic,Co-op,Grea...   \n",
       "8818   Action,Co-op,Stealth,Multiplayer,Singleplayer,...   \n",
       "7997   Action,Co-op,Stealth,Multiplayer,Singleplayer,...   \n",
       "30468  Action,Stealth,Third Person,Singleplayer,Multi...   \n",
       "9805   Stealth,Action,Third Person,Singleplayer,Class...   \n",
       "74843  Action,FPS,Online Co-Op,PvE,Shooter,First-Pers...   \n",
       "44589  Stealth,Action,Co-op,Third Person,Multiplayer,...   \n",
       "68382  Action,Adventure,Third-Person Shooter,Multipla...   \n",
       "45434  Open World,Looter Shooter,Multiplayer,Third-Pe...   \n",
       "\n",
       "                                             screenshots  \\\n",
       "25075  https://cdn.akamai.steamstatic.com/steam/apps/...   \n",
       "49691  https://cdn.akamai.steamstatic.com/steam/apps/...   \n",
       "40814  https://cdn.akamai.steamstatic.com/steam/apps/...   \n",
       "69053  https://cdn.akamai.steamstatic.com/steam/apps/...   \n",
       "16755  https://cdn.akamai.steamstatic.com/steam/apps/...   \n",
       "38378  https://cdn.akamai.steamstatic.com/steam/apps/...   \n",
       "30756  https://cdn.akamai.steamstatic.com/steam/apps/...   \n",
       "32548  https://cdn.akamai.steamstatic.com/steam/apps/...   \n",
       "4062   https://cdn.akamai.steamstatic.com/steam/apps/...   \n",
       "8256   https://cdn.akamai.steamstatic.com/steam/apps/...   \n",
       "11657  https://cdn.akamai.steamstatic.com/steam/apps/...   \n",
       "32103  https://cdn.akamai.steamstatic.com/steam/apps/...   \n",
       "41092  https://cdn.akamai.steamstatic.com/steam/apps/...   \n",
       "8818   https://cdn.akamai.steamstatic.com/steam/apps/...   \n",
       "7997   https://cdn.akamai.steamstatic.com/steam/apps/...   \n",
       "30468  https://cdn.akamai.steamstatic.com/steam/apps/...   \n",
       "9805   https://cdn.akamai.steamstatic.com/steam/apps/...   \n",
       "74843  https://cdn.akamai.steamstatic.com/steam/apps/...   \n",
       "44589  https://cdn.akamai.steamstatic.com/steam/apps/...   \n",
       "68382  https://cdn.akamai.steamstatic.com/steam/apps/...   \n",
       "45434  https://cdn.akamai.steamstatic.com/steam/apps/...   \n",
       "\n",
       "                                                  movies  release_year  \\\n",
       "25075                                                NaN          2009   \n",
       "49691                                                NaN          2012   \n",
       "40814                                                NaN          2008   \n",
       "69053  http://cdn.akamai.steamstatic.com/steam/apps/2...          2023   \n",
       "16755                                                NaN          2008   \n",
       "38378                                                NaN          2008   \n",
       "30756  http://cdn.akamai.steamstatic.com/steam/apps/2...          2017   \n",
       "32548                                                NaN          2008   \n",
       "4062                                                 NaN          2008   \n",
       "8256   http://cdn.akamai.steamstatic.com/steam/apps/2...          2015   \n",
       "11657                                                NaN          2008   \n",
       "32103  http://cdn.akamai.steamstatic.com/steam/apps/5...          2008   \n",
       "41092                                                NaN          2009   \n",
       "8818                                                 NaN          2010   \n",
       "7997                                                 NaN          2010   \n",
       "30468                                                NaN          2009   \n",
       "9805                                                 NaN          2008   \n",
       "74843  http://cdn.akamai.steamstatic.com/steam/apps/2...          2023   \n",
       "44589  http://cdn.akamai.steamstatic.com/steam/apps/2...          2013   \n",
       "68382                                                NaN          2023   \n",
       "45434  http://cdn.akamai.steamstatic.com/steam/apps/2...          2016   \n",
       "\n",
       "       release_month  release_day  num_supported_languages  \\\n",
       "25075              2           25                        5   \n",
       "49691              6           26                       11   \n",
       "40814              7           15                        1   \n",
       "69053              1           23                       16   \n",
       "16755              7           15                        1   \n",
       "38378              7           15                        1   \n",
       "30756              3            6                       15   \n",
       "32548              5           13                        1   \n",
       "4062               9           25                        1   \n",
       "8256              12            1                       16   \n",
       "11657              4            9                        2   \n",
       "32103              4           16                        5   \n",
       "41092              8           27                        5   \n",
       "8818               4           29                        5   \n",
       "7997               4           29                        5   \n",
       "30468              2           13                        5   \n",
       "9805               4            1                        2   \n",
       "74843              6           15                       16   \n",
       "44589              8           20                       16   \n",
       "68382              1           12                       14   \n",
       "45434              3            7                       15   \n",
       "\n",
       "       num_supported_audio_languages  num_tags  num_genres  num_categories  \\\n",
       "25075                              1         8           1               2   \n",
       "49691                              6        20           1               3   \n",
       "40814                              1        17           1               2   \n",
       "69053                             10        17           2               5   \n",
       "16755                              1         6           1               2   \n",
       "38378                              1         6           1               1   \n",
       "30756                              9        20           2               6   \n",
       "32548                              1         8           1               2   \n",
       "4062                               1        15           1               1   \n",
       "8256                               9        20           1              11   \n",
       "11657                              1        14           1               2   \n",
       "32103                              1        20           1               3   \n",
       "41092                              1        17           1               1   \n",
       "8818                               1         6           1               4   \n",
       "7997                               1         6           1               2   \n",
       "30468                              1         8           1               1   \n",
       "9805                               1        15           1               1   \n",
       "74843                             10        18           1               6   \n",
       "44589                              8        20           2               3   \n",
       "68382                             11        11           3               8   \n",
       "45434                              8        20           3               5   \n",
       "\n",
       "       owners_count  game_age  retention_score  \n",
       "25075        150000        16         0.000000  \n",
       "49691        350000        13         0.000000  \n",
       "40814        350000        17         0.000000  \n",
       "69053         75000         2         1.094717  \n",
       "16755        350000        17         0.000000  \n",
       "38378         35000        17         0.000000  \n",
       "30756       3500000         8         0.095372  \n",
       "32548        150000        17         0.000000  \n",
       "4062         350000        17         0.000000  \n",
       "8256       35000000        10         0.122511  \n",
       "11657        150000        17         0.000000  \n",
       "32103        750000        17         0.000000  \n",
       "41092        350000        16         0.000000  \n",
       "8818         150000        15         0.000000  \n",
       "7997          10000        15         0.000000  \n",
       "30468        350000        16         0.000000  \n",
       "9805         350000        17         0.000000  \n",
       "74843         75000         2         1.082918  \n",
       "44589       1500000        12         0.000000  \n",
       "68382         75000         2         1.061992  \n",
       "45434       3500000         9         0.000000  "
      ]
     },
     "execution_count": 10,
     "metadata": {},
     "output_type": "execute_result"
    }
   ],
   "source": [
    "# Game age in years (adjust for your dataset year)\n",
    "games['game_age'] = 2025 - games['release_year']\n",
    "\n",
    "# Basic retention ratio, adjust by age (log scaling so it doesn’t explode for very old games)\n",
    "# average_playtime_forever + 1 is to avoid division by zero error\n",
    "# log1p (1 + log) avoids log(0) issues\n",
    "games['retention_score'] = (games['average_playtime_two_weeks'] / (games['average_playtime_forever'] + 1) * np.log1p(games['game_age']))\n",
    "\n",
    "games[games.name.str.contains('Tom Clancy')]"
   ]
  },
  {
   "cell_type": "markdown",
   "id": "4b2c4422",
   "metadata": {},
   "source": [
    "Now... after looking at the retention_score i quickly realize how bad this dataset it, Rainbow 6 Siege has a score of 0.1, while Ghost Recon has 1.1 lol. This is maddness.\n",
    "Unfortunately, as data scientists we work with what we have, maybe if Steam API didnt have so much restrictions and I could create my own dataset it would be better."
   ]
  },
  {
   "cell_type": "markdown",
   "id": "7519b324",
   "metadata": {},
   "source": [
    "### 6. Hypothesis testing\n",
    "\n",
    "Now I will use some correlation and hypothesis testing in order to find which features are best to use for the final equation.\n",
    "\n",
    "First I will check the linear relationships with Pearson's correlation coefficient."
   ]
  },
  {
   "cell_type": "code",
   "execution_count": 11,
   "id": "ce27fee0",
   "metadata": {},
   "outputs": [
    {
     "name": "stdout",
     "output_type": "stream",
     "text": [
      "Pearson correlation: 0.578, p-value: 0.000\n"
     ]
    }
   ],
   "source": [
    "# Correlation between retention_score and average_playtime_two_weeks\n",
    "corr, pval = pearsonr(games.retention_score, games.average_playtime_two_weeks)\n",
    "print(f\"Pearson correlation: {corr:.3f}, p-value: {pval:.3f}\")\n",
    "\n",
    "# Obviously very good as we used average_playtime_two_weeks to construct the equastion."
   ]
  },
  {
   "cell_type": "code",
   "execution_count": 12,
   "id": "7ad51fee",
   "metadata": {},
   "outputs": [
    {
     "name": "stdout",
     "output_type": "stream",
     "text": [
      "Pearson correlation: 0.018, p-value: 0.000\n"
     ]
    }
   ],
   "source": [
    "# Correlation between retention_score and median_playtime_forever\n",
    "corr, pval = pearsonr(games.retention_score, games.median_playtime_forever)\n",
    "print(f\"Pearson correlation: {corr:.3f}, p-value: {pval:.3f}\")\n",
    "\n",
    "# Strange, almost no correlation, you would think most features contribute to retention."
   ]
  },
  {
   "cell_type": "code",
   "execution_count": 13,
   "id": "9d0e4400",
   "metadata": {},
   "outputs": [
    {
     "name": "stdout",
     "output_type": "stream",
     "text": [
      "Pearson correlation: 0.035, p-value: 0.000\n"
     ]
    }
   ],
   "source": [
    "# Correlation between retention_score and positive\n",
    "corr, pval = pearsonr(games.retention_score, games.positive)\n",
    "print(f\"Pearson correlation: {corr:.3f}, p-value: {pval:.3f}\")\n",
    "\n",
    "# Hmm, seems like there is almost no correlation between our new feature and the fields outside the equation."
   ]
  },
  {
   "cell_type": "markdown",
   "id": "b6f065c0",
   "metadata": {},
   "source": [
    "Maybe the replationship with the features and our generated retention_score is simply not linear, lets try to use Spearman's correlation coefficient to see if the relationship is curved."
   ]
  },
  {
   "cell_type": "code",
   "execution_count": 14,
   "id": "e095afe8",
   "metadata": {},
   "outputs": [
    {
     "name": "stdout",
     "output_type": "stream",
     "text": [
      "Spearman correlation: 0.377, p-value: 0.000e+00\n"
     ]
    }
   ],
   "source": [
    "corr, p_value = spearmanr(games.retention_score, games.median_playtime_forever)\n",
    "print(f\"Spearman correlation: {corr:.3f}, p-value: {p_value:.3e}\")\n",
    "\n",
    "# Alright, we can see that there is indeed a positive correlation between retention_score and owners_count.\n",
    "# The p-value is very low, meaning it's not random."
   ]
  },
  {
   "cell_type": "code",
   "execution_count": 15,
   "id": "c4a5a00d",
   "metadata": {},
   "outputs": [
    {
     "name": "stdout",
     "output_type": "stream",
     "text": [
      "Spearman correlation: 0.384, p-value: 0.000e+00\n"
     ]
    }
   ],
   "source": [
    "corr, p_value = spearmanr(games.retention_score, games.average_playtime_forever)\n",
    "print(f\"Spearman correlation: {corr:.3f}, p-value: {p_value:.3e}\")\n",
    "\n",
    "# average playtime forever has a positive correlation, we can use it too."
   ]
  },
  {
   "cell_type": "code",
   "execution_count": 16,
   "id": "e7129871",
   "metadata": {},
   "outputs": [
    {
     "name": "stdout",
     "output_type": "stream",
     "text": [
      "Spearman correlation: 0.297, p-value: 0.000e+00\n"
     ]
    }
   ],
   "source": [
    "corr, p_value = spearmanr(games.retention_score, games.peak_concurrent_users)\n",
    "print(f\"Spearman correlation: {corr:.3f}, p-value: {p_value:.3e}\")\n",
    "\n",
    "# Positive correlation and almost zero p-value indicate a strong relationship."
   ]
  },
  {
   "cell_type": "code",
   "execution_count": 17,
   "id": "0cb0d3b2",
   "metadata": {},
   "outputs": [
    {
     "name": "stdout",
     "output_type": "stream",
     "text": [
      "Pearson correlation: 0.035, p-value: 0.000\n"
     ]
    }
   ],
   "source": [
    "# Let's test the positive too\n",
    "corr, pval = pearsonr(games.retention_score, games.positive)\n",
    "print(f\"Pearson correlation: {corr:.3f}, p-value: {pval:.3f}\")\n",
    "\n",
    "# Okay, positive reviews still have no correlation, good to know."
   ]
  },
  {
   "cell_type": "code",
   "execution_count": 18,
   "id": "6d961336",
   "metadata": {},
   "outputs": [
    {
     "name": "stdout",
     "output_type": "stream",
     "text": [
      "Spearman correlation: 0.142, p-value: 0.000e+00\n"
     ]
    }
   ],
   "source": [
    "corr, p_value = spearmanr(games.retention_score, games.price)\n",
    "print(f\"Spearman correlation: {corr:.3f}, p-value: {p_value:.3e}\")\n",
    "\n",
    "# Price has a slight correlation too, not enough to be used tho.\n",
    "# I was hoping we can use this in feature engineering but it seems the correlation is not strong enough."
   ]
  },
  {
   "cell_type": "code",
   "execution_count": 19,
   "id": "ad20bb2f",
   "metadata": {},
   "outputs": [
    {
     "name": "stdout",
     "output_type": "stream",
     "text": [
      "Spearman correlation: 0.377, p-value: 0.000e+00\n"
     ]
    }
   ],
   "source": [
    "corr, p_value = spearmanr(games.retention_score, games.median_playtime_forever)\n",
    "print(f\"Spearman correlation: {corr:.3f}, p-value: {p_value:.3e}\")\n",
    "\n",
    "# Interesting, the release_year has a negative correlation on the median playtime forever, meaning older games tend to have lower playtime, even they have been out for longer."
   ]
  },
  {
   "cell_type": "code",
   "execution_count": 20,
   "id": "48ecf33e",
   "metadata": {},
   "outputs": [
    {
     "name": "stdout",
     "output_type": "stream",
     "text": [
      "Spearman correlation: 0.359, p-value: 0.000e+00\n"
     ]
    }
   ],
   "source": [
    "corr, p_value = spearmanr(games.retention_score, games.recommendations)\n",
    "print(f\"Spearman correlation: {corr:.3f}, p-value: {p_value:.3e}\")\n",
    "\n",
    "# Recommendations has a negative correlation, meaning older games tend to receive fewer recommendations."
   ]
  },
  {
   "cell_type": "code",
   "execution_count": 21,
   "id": "4de68351",
   "metadata": {},
   "outputs": [
    {
     "name": "stdout",
     "output_type": "stream",
     "text": [
      "Spearman correlation: 0.068, p-value: 2.225e-114\n"
     ]
    }
   ],
   "source": [
    "corr, p_value = spearmanr(games.retention_score, games.game_age)\n",
    "print(f\"Spearman correlation: {corr:.3f}, p-value: {p_value:.3e}\")\n",
    "\n",
    "# Game age has almost no correlation and a high p-value, indicating it's not a significant factor."
   ]
  },
  {
   "cell_type": "markdown",
   "id": "8d286f90",
   "metadata": {},
   "source": [
    "### 7. Best Game Index (BGI) creation\n",
    "\n",
    "Now that we have a very good feature _retention_score_, we can create a **BGI (Best Game Index)** as a weighted combination between the fields with the best correlation to it.\n",
    "\n",
    "The fields I will use are: *owners_count, retention_score, retention_score, peak_concurrent_users, recommendations, positive, negative, average_playtime_forever, median_playtime_forever*.\n",
    "I will use _positive_ and _negtive_ to create a `review_score`.\n",
    "I will also use _average_playtime_forever_ and _median_playtime_forever_ to create `playtime_score`\n",
    "\n",
    "I will normalize all features at the same time using a **MinMaxScaler** and then do the calculation.\n",
    "\n",
    "<div style=\"height: 1.5rem;\"></div>\n",
    "\n",
    "$$\n",
    "\\text{ReviewScore} = \\frac{(P \\cdot N - \\alpha)}{P + N + 1}\n",
    "$$  \n",
    "Where:  \n",
    "- $P$ = number of positive reviews  \n",
    "- $N$ = number of negative reviews  \n",
    "- $\\alpha = 1.5$ (bias factor to account for review imbalance)\n",
    "\n",
    "<div style=\"height: 2.5rem;\"></div>\n",
    "\n",
    "$$\n",
    "\\text{PlaytimeScore} = \\frac{\\text{AvgPlaytime}_{\\infty} + \\text{MedianPlaytime}_{\\infty}}{2}\n",
    "$$  \n",
    "Where:  \n",
    "- $\\text{AvgPlaytime}_{\\infty}$ = average playtime (forever)  \n",
    "- $\\text{MedianPlaytime}_{\\infty}$ = median playtime (forever)  \n",
    "\n",
    "<div style=\"height: 2.5rem;\"></div>\n",
    "\n",
    "$$\n",
    "\\text{GameScore} =\n",
    "w_1 \\cdot O +\n",
    "w_2 \\cdot R +\n",
    "w_3 \\cdot C +\n",
    "w_4 \\cdot Rec +\n",
    "w_5 \\cdot \\text{ReviewScore} +\n",
    "w_6 \\cdot \\text{PlaytimeScore}\n",
    "$$  \n",
    "Where:  \n",
    "- $O$ = owners count  \n",
    "- $R$ = retention score  \n",
    "- $C$ = peak concurrent users  \n",
    "- $Rec$ = recommendations  \n",
    "- $w_i$ = feature weights (sum to 1)  \n"
   ]
  },
  {
   "cell_type": "code",
   "execution_count": 22,
   "id": "7fd7e976",
   "metadata": {},
   "outputs": [],
   "source": [
    "scaler = MinMaxScaler()\n",
    "cols = [\n",
    "    'owners_count',\n",
    "    'retention_score',\n",
    "    'peak_concurrent_users',\n",
    "    'recommendations'\n",
    "]\n",
    "\n",
    "games_norm = games.copy()\n",
    "\n",
    "# Calculate the review score, favoring the positive reviews\n",
    "alpha = 1.5\n",
    "games_norm['review_score'] = (\n",
    "    (games['positive'] * games['negative'] - alpha) / # positive reviews count 50% more as most people leave a review only if it's negative\n",
    "    (games['positive'] + games['negative'] + 1)\n",
    ")\n",
    "\n",
    "games_norm['playtime_score'] = (games_norm['average_playtime_forever'] + games_norm['median_playtime_forever']) / 2\n",
    "\n",
    "cols = cols + ['review_score', 'playtime_score']\n",
    "# Normalize all columns for consistency\n",
    "games_norm[cols] = scaler.fit_transform(games_norm[cols])\n",
    "\n",
    "weights = {\n",
    "    'owners_count': 0.15,\n",
    "    'retention_score': 0.30,\n",
    "    'peak_concurrent_users': 0.20,\n",
    "    'recommendations': 0.15,\n",
    "    'review_score': 0.10,\n",
    "    'playtime_score': 0.15\n",
    "}\n",
    "\n",
    "games_norm['GameScore'] = (\n",
    "    weights['owners_count'] * games_norm['owners_count'] +\n",
    "    weights['retention_score'] * games_norm['retention_score'] +\n",
    "    weights['peak_concurrent_users'] * games_norm['peak_concurrent_users'] +\n",
    "    weights['recommendations'] * games_norm['recommendations'] +\n",
    "    weights['review_score'] * games_norm['review_score'] +\n",
    "    weights['playtime_score'] * games_norm['playtime_score']\n",
    ")\n",
    "\n",
    "# Simply add the GameScore to the real dataset and save it for future use.\n",
    "games['GameScore'] = games_norm['GameScore']\n",
    "games.to_csv('../data/best_video_games.csv', index=False)"
   ]
  },
  {
   "cell_type": "code",
   "execution_count": 23,
   "id": "6ba99892",
   "metadata": {},
   "outputs": [
    {
     "data": {
      "application/vnd.plotly.v1+json": {
       "config": {
        "plotlyServerURL": "https://plot.ly"
       },
       "data": [
        {
         "hovertemplate": "GameScore=%{x:.3f}<br>name=%{y}<extra></extra>",
         "legendgroup": "",
         "marker": {
          "color": "#636efa",
          "pattern": {
           "shape": ""
          }
         },
         "name": "",
         "orientation": "h",
         "showlegend": false,
         "textposition": "auto",
         "type": "bar",
         "x": {
          "bdata": "cUuHwqsC3j8M9kbVdVLTPy9CmDH2uNI/KELfVieq0j+AYEacxrDRP56to0L7Tco/o8Ac47U2yj8v5O1w6rjDP8+RuKTBccM/a+74ldM7wz/HgfE/MzXDP2L1tSBk48I/I2rFXxszwj9riiQsni/CP65RAWoa6ME/krU4icS1wD8vPUzBs2PAPxwX+UbZ6bw/593xzjXWuz+KotnNGcS7Pw==",
          "dtype": "f8"
         },
         "xaxis": "x",
         "y": [
          "Counter-Strike: Global Offensive",
          "Just Cause",
          "Black Myth: Wukong",
          "Dota 2",
          "PUBG: BATTLEGROUNDS",
          "Palworld",
          "Monster Hunter Wilds",
          "GRID",
          "Grand Theft Auto V",
          "Energy Engine PC Live Wallpaper",
          "Hogwarts Legacy",
          "Crysis® 3",
          "Narcissu 1st & 2nd",
          "Alan Wake's American Nightmare",
          "Boom 3D",
          "STAR WARS™: Squadrons",
          "NEKOPARA Vol. 0",
          "Command & Conquer: Red Alert 3",
          "Team Fortress 2",
          "NEKOPARA Extra"
         ],
         "yaxis": "y"
        }
       ],
       "layout": {
        "barmode": "relative",
        "height": 600,
        "legend": {
         "tracegroupgap": 0
        },
        "margin": {
         "b": 40,
         "l": 200,
         "r": 40,
         "t": 80
        },
        "template": {
         "data": {
          "bar": [
           {
            "error_x": {
             "color": "#2a3f5f"
            },
            "error_y": {
             "color": "#2a3f5f"
            },
            "marker": {
             "line": {
              "color": "#E5ECF6",
              "width": 0.5
             },
             "pattern": {
              "fillmode": "overlay",
              "size": 10,
              "solidity": 0.2
             }
            },
            "type": "bar"
           }
          ],
          "barpolar": [
           {
            "marker": {
             "line": {
              "color": "#E5ECF6",
              "width": 0.5
             },
             "pattern": {
              "fillmode": "overlay",
              "size": 10,
              "solidity": 0.2
             }
            },
            "type": "barpolar"
           }
          ],
          "carpet": [
           {
            "aaxis": {
             "endlinecolor": "#2a3f5f",
             "gridcolor": "white",
             "linecolor": "white",
             "minorgridcolor": "white",
             "startlinecolor": "#2a3f5f"
            },
            "baxis": {
             "endlinecolor": "#2a3f5f",
             "gridcolor": "white",
             "linecolor": "white",
             "minorgridcolor": "white",
             "startlinecolor": "#2a3f5f"
            },
            "type": "carpet"
           }
          ],
          "choropleth": [
           {
            "colorbar": {
             "outlinewidth": 0,
             "ticks": ""
            },
            "type": "choropleth"
           }
          ],
          "contour": [
           {
            "colorbar": {
             "outlinewidth": 0,
             "ticks": ""
            },
            "colorscale": [
             [
              0,
              "#0d0887"
             ],
             [
              0.1111111111111111,
              "#46039f"
             ],
             [
              0.2222222222222222,
              "#7201a8"
             ],
             [
              0.3333333333333333,
              "#9c179e"
             ],
             [
              0.4444444444444444,
              "#bd3786"
             ],
             [
              0.5555555555555556,
              "#d8576b"
             ],
             [
              0.6666666666666666,
              "#ed7953"
             ],
             [
              0.7777777777777778,
              "#fb9f3a"
             ],
             [
              0.8888888888888888,
              "#fdca26"
             ],
             [
              1,
              "#f0f921"
             ]
            ],
            "type": "contour"
           }
          ],
          "contourcarpet": [
           {
            "colorbar": {
             "outlinewidth": 0,
             "ticks": ""
            },
            "type": "contourcarpet"
           }
          ],
          "heatmap": [
           {
            "colorbar": {
             "outlinewidth": 0,
             "ticks": ""
            },
            "colorscale": [
             [
              0,
              "#0d0887"
             ],
             [
              0.1111111111111111,
              "#46039f"
             ],
             [
              0.2222222222222222,
              "#7201a8"
             ],
             [
              0.3333333333333333,
              "#9c179e"
             ],
             [
              0.4444444444444444,
              "#bd3786"
             ],
             [
              0.5555555555555556,
              "#d8576b"
             ],
             [
              0.6666666666666666,
              "#ed7953"
             ],
             [
              0.7777777777777778,
              "#fb9f3a"
             ],
             [
              0.8888888888888888,
              "#fdca26"
             ],
             [
              1,
              "#f0f921"
             ]
            ],
            "type": "heatmap"
           }
          ],
          "histogram": [
           {
            "marker": {
             "pattern": {
              "fillmode": "overlay",
              "size": 10,
              "solidity": 0.2
             }
            },
            "type": "histogram"
           }
          ],
          "histogram2d": [
           {
            "colorbar": {
             "outlinewidth": 0,
             "ticks": ""
            },
            "colorscale": [
             [
              0,
              "#0d0887"
             ],
             [
              0.1111111111111111,
              "#46039f"
             ],
             [
              0.2222222222222222,
              "#7201a8"
             ],
             [
              0.3333333333333333,
              "#9c179e"
             ],
             [
              0.4444444444444444,
              "#bd3786"
             ],
             [
              0.5555555555555556,
              "#d8576b"
             ],
             [
              0.6666666666666666,
              "#ed7953"
             ],
             [
              0.7777777777777778,
              "#fb9f3a"
             ],
             [
              0.8888888888888888,
              "#fdca26"
             ],
             [
              1,
              "#f0f921"
             ]
            ],
            "type": "histogram2d"
           }
          ],
          "histogram2dcontour": [
           {
            "colorbar": {
             "outlinewidth": 0,
             "ticks": ""
            },
            "colorscale": [
             [
              0,
              "#0d0887"
             ],
             [
              0.1111111111111111,
              "#46039f"
             ],
             [
              0.2222222222222222,
              "#7201a8"
             ],
             [
              0.3333333333333333,
              "#9c179e"
             ],
             [
              0.4444444444444444,
              "#bd3786"
             ],
             [
              0.5555555555555556,
              "#d8576b"
             ],
             [
              0.6666666666666666,
              "#ed7953"
             ],
             [
              0.7777777777777778,
              "#fb9f3a"
             ],
             [
              0.8888888888888888,
              "#fdca26"
             ],
             [
              1,
              "#f0f921"
             ]
            ],
            "type": "histogram2dcontour"
           }
          ],
          "mesh3d": [
           {
            "colorbar": {
             "outlinewidth": 0,
             "ticks": ""
            },
            "type": "mesh3d"
           }
          ],
          "parcoords": [
           {
            "line": {
             "colorbar": {
              "outlinewidth": 0,
              "ticks": ""
             }
            },
            "type": "parcoords"
           }
          ],
          "pie": [
           {
            "automargin": true,
            "type": "pie"
           }
          ],
          "scatter": [
           {
            "fillpattern": {
             "fillmode": "overlay",
             "size": 10,
             "solidity": 0.2
            },
            "type": "scatter"
           }
          ],
          "scatter3d": [
           {
            "line": {
             "colorbar": {
              "outlinewidth": 0,
              "ticks": ""
             }
            },
            "marker": {
             "colorbar": {
              "outlinewidth": 0,
              "ticks": ""
             }
            },
            "type": "scatter3d"
           }
          ],
          "scattercarpet": [
           {
            "marker": {
             "colorbar": {
              "outlinewidth": 0,
              "ticks": ""
             }
            },
            "type": "scattercarpet"
           }
          ],
          "scattergeo": [
           {
            "marker": {
             "colorbar": {
              "outlinewidth": 0,
              "ticks": ""
             }
            },
            "type": "scattergeo"
           }
          ],
          "scattergl": [
           {
            "marker": {
             "colorbar": {
              "outlinewidth": 0,
              "ticks": ""
             }
            },
            "type": "scattergl"
           }
          ],
          "scattermap": [
           {
            "marker": {
             "colorbar": {
              "outlinewidth": 0,
              "ticks": ""
             }
            },
            "type": "scattermap"
           }
          ],
          "scattermapbox": [
           {
            "marker": {
             "colorbar": {
              "outlinewidth": 0,
              "ticks": ""
             }
            },
            "type": "scattermapbox"
           }
          ],
          "scatterpolar": [
           {
            "marker": {
             "colorbar": {
              "outlinewidth": 0,
              "ticks": ""
             }
            },
            "type": "scatterpolar"
           }
          ],
          "scatterpolargl": [
           {
            "marker": {
             "colorbar": {
              "outlinewidth": 0,
              "ticks": ""
             }
            },
            "type": "scatterpolargl"
           }
          ],
          "scatterternary": [
           {
            "marker": {
             "colorbar": {
              "outlinewidth": 0,
              "ticks": ""
             }
            },
            "type": "scatterternary"
           }
          ],
          "surface": [
           {
            "colorbar": {
             "outlinewidth": 0,
             "ticks": ""
            },
            "colorscale": [
             [
              0,
              "#0d0887"
             ],
             [
              0.1111111111111111,
              "#46039f"
             ],
             [
              0.2222222222222222,
              "#7201a8"
             ],
             [
              0.3333333333333333,
              "#9c179e"
             ],
             [
              0.4444444444444444,
              "#bd3786"
             ],
             [
              0.5555555555555556,
              "#d8576b"
             ],
             [
              0.6666666666666666,
              "#ed7953"
             ],
             [
              0.7777777777777778,
              "#fb9f3a"
             ],
             [
              0.8888888888888888,
              "#fdca26"
             ],
             [
              1,
              "#f0f921"
             ]
            ],
            "type": "surface"
           }
          ],
          "table": [
           {
            "cells": {
             "fill": {
              "color": "#EBF0F8"
             },
             "line": {
              "color": "white"
             }
            },
            "header": {
             "fill": {
              "color": "#C8D4E3"
             },
             "line": {
              "color": "white"
             }
            },
            "type": "table"
           }
          ]
         },
         "layout": {
          "annotationdefaults": {
           "arrowcolor": "#2a3f5f",
           "arrowhead": 0,
           "arrowwidth": 1
          },
          "autotypenumbers": "strict",
          "coloraxis": {
           "colorbar": {
            "outlinewidth": 0,
            "ticks": ""
           }
          },
          "colorscale": {
           "diverging": [
            [
             0,
             "#8e0152"
            ],
            [
             0.1,
             "#c51b7d"
            ],
            [
             0.2,
             "#de77ae"
            ],
            [
             0.3,
             "#f1b6da"
            ],
            [
             0.4,
             "#fde0ef"
            ],
            [
             0.5,
             "#f7f7f7"
            ],
            [
             0.6,
             "#e6f5d0"
            ],
            [
             0.7,
             "#b8e186"
            ],
            [
             0.8,
             "#7fbc41"
            ],
            [
             0.9,
             "#4d9221"
            ],
            [
             1,
             "#276419"
            ]
           ],
           "sequential": [
            [
             0,
             "#0d0887"
            ],
            [
             0.1111111111111111,
             "#46039f"
            ],
            [
             0.2222222222222222,
             "#7201a8"
            ],
            [
             0.3333333333333333,
             "#9c179e"
            ],
            [
             0.4444444444444444,
             "#bd3786"
            ],
            [
             0.5555555555555556,
             "#d8576b"
            ],
            [
             0.6666666666666666,
             "#ed7953"
            ],
            [
             0.7777777777777778,
             "#fb9f3a"
            ],
            [
             0.8888888888888888,
             "#fdca26"
            ],
            [
             1,
             "#f0f921"
            ]
           ],
           "sequentialminus": [
            [
             0,
             "#0d0887"
            ],
            [
             0.1111111111111111,
             "#46039f"
            ],
            [
             0.2222222222222222,
             "#7201a8"
            ],
            [
             0.3333333333333333,
             "#9c179e"
            ],
            [
             0.4444444444444444,
             "#bd3786"
            ],
            [
             0.5555555555555556,
             "#d8576b"
            ],
            [
             0.6666666666666666,
             "#ed7953"
            ],
            [
             0.7777777777777778,
             "#fb9f3a"
            ],
            [
             0.8888888888888888,
             "#fdca26"
            ],
            [
             1,
             "#f0f921"
            ]
           ]
          },
          "colorway": [
           "#636efa",
           "#EF553B",
           "#00cc96",
           "#ab63fa",
           "#FFA15A",
           "#19d3f3",
           "#FF6692",
           "#B6E880",
           "#FF97FF",
           "#FECB52"
          ],
          "font": {
           "color": "#2a3f5f"
          },
          "geo": {
           "bgcolor": "white",
           "lakecolor": "white",
           "landcolor": "#E5ECF6",
           "showlakes": true,
           "showland": true,
           "subunitcolor": "white"
          },
          "hoverlabel": {
           "align": "left"
          },
          "hovermode": "closest",
          "mapbox": {
           "style": "light"
          },
          "paper_bgcolor": "white",
          "plot_bgcolor": "#E5ECF6",
          "polar": {
           "angularaxis": {
            "gridcolor": "white",
            "linecolor": "white",
            "ticks": ""
           },
           "bgcolor": "#E5ECF6",
           "radialaxis": {
            "gridcolor": "white",
            "linecolor": "white",
            "ticks": ""
           }
          },
          "scene": {
           "xaxis": {
            "backgroundcolor": "#E5ECF6",
            "gridcolor": "white",
            "gridwidth": 2,
            "linecolor": "white",
            "showbackground": true,
            "ticks": "",
            "zerolinecolor": "white"
           },
           "yaxis": {
            "backgroundcolor": "#E5ECF6",
            "gridcolor": "white",
            "gridwidth": 2,
            "linecolor": "white",
            "showbackground": true,
            "ticks": "",
            "zerolinecolor": "white"
           },
           "zaxis": {
            "backgroundcolor": "#E5ECF6",
            "gridcolor": "white",
            "gridwidth": 2,
            "linecolor": "white",
            "showbackground": true,
            "ticks": "",
            "zerolinecolor": "white"
           }
          },
          "shapedefaults": {
           "line": {
            "color": "#2a3f5f"
           }
          },
          "ternary": {
           "aaxis": {
            "gridcolor": "white",
            "linecolor": "white",
            "ticks": ""
           },
           "baxis": {
            "gridcolor": "white",
            "linecolor": "white",
            "ticks": ""
           },
           "bgcolor": "#E5ECF6",
           "caxis": {
            "gridcolor": "white",
            "linecolor": "white",
            "ticks": ""
           }
          },
          "title": {
           "x": 0.05
          },
          "xaxis": {
           "automargin": true,
           "gridcolor": "white",
           "linecolor": "white",
           "ticks": "",
           "title": {
            "standoff": 15
           },
           "zerolinecolor": "white",
           "zerolinewidth": 2
          },
          "yaxis": {
           "automargin": true,
           "gridcolor": "white",
           "linecolor": "white",
           "ticks": "",
           "title": {
            "standoff": 15
           },
           "zerolinecolor": "white",
           "zerolinewidth": 2
          }
         }
        },
        "title": {
         "text": "Top 20 Games by GameScore"
        },
        "xaxis": {
         "anchor": "y",
         "domain": [
          0,
          1
         ],
         "title": {
          "text": "GameScore"
         }
        },
        "yaxis": {
         "anchor": "x",
         "automargin": true,
         "categoryorder": "total ascending",
         "domain": [
          0,
          1
         ],
         "title": {
          "text": "name"
         }
        }
       }
      }
     },
     "metadata": {},
     "output_type": "display_data"
    }
   ],
   "source": [
    "# Now let's visualize it with plotly\n",
    "top_games = games.sort_values('GameScore', ascending=False)[[\"name\", \"GameScore\"]].head(20)\n",
    "\n",
    "# get top 20 games\n",
    "top = top_games.nlargest(20, \"GameScore\").copy()\n",
    "\n",
    "fig = px.bar(\n",
    "    top,\n",
    "    x=\"GameScore\", \n",
    "    y=\"name\",\n",
    "    orientation=\"h\",\n",
    "    hover_data={\n",
    "        \"GameScore\": \":.3f\"\n",
    "    },\n",
    "    title=\"Top 20 Games by GameScore\"\n",
    ")\n",
    "\n",
    "fig.update_layout(\n",
    "    yaxis=dict(\n",
    "        categoryorder=\"total ascending\",   # rank nicely\n",
    "        automargin=True                    # let Plotly add space for labels\n",
    "    ),\n",
    "    margin=dict(l=200, r=40, t=80, b=40),  # widen left margin for long names\n",
    "    height=600                             # increase figure height\n",
    ")\n",
    "fig.show()"
   ]
  },
  {
   "cell_type": "markdown",
   "id": "19f2646e",
   "metadata": {},
   "source": [
    "Well... seems like that according to this dataset, CS:GO is the best game ever. And according to real world data, this might be right, even though the dataset has a lot of missing data.\n",
    "\n",
    "Rainbow Six Siege is not even top 20 which is crazy (This is my favourite FPS if you couldn't tell by now). The dataset creator did Ubisoft dirty!\n",
    "Actually, Steam Spy and it's data hidden behind a paywall is the problem... whatever, let's continue with testing the weights."
   ]
  },
  {
   "cell_type": "markdown",
   "id": "e0533f0c",
   "metadata": {},
   "source": [
    "### 8. Stress testing weights\n",
    "Now let's check if tweaking the weights changes the results. It should give different values but keep the overall arrangement."
   ]
  },
  {
   "cell_type": "code",
   "execution_count": null,
   "id": "602ff837",
   "metadata": {},
   "outputs": [
    {
     "name": "stdout",
     "output_type": "stream",
     "text": [
      "Average overlap with noise: 8.86\n"
     ]
    }
   ],
   "source": [
    "# Sensitivity check: random weight noise\n",
    "def sample_weights(base, noise=0.1):\n",
    "    arr = np.array(list(base.values())) # get values\n",
    "    arr = arr * (1 + np.random.uniform(-noise, noise, size=arr.shape)) # Add noise and slightly scale weights\n",
    "    arr = np.clip(arr, 0, None) # Ensure we have no negative values\n",
    "    arr /= arr.sum() # normalizes the weights up to 1\n",
    "    return dict(zip(base.keys(), arr)) # Create the new features dictionary\n",
    "\n",
    "# Compute overlap for top-10\n",
    "base_top10 = top_games['name'].head(10).tolist()\n",
    "overlaps = []\n",
    "for i in range(100):\n",
    "    w = sample_weights(weights, noise=0.1)\n",
    "    games_norm['GameScore_temp'] = sum(w[k] * games_norm[k] for k in w)\n",
    "    temp_top10 = games_norm.nlargest(10, 'GameScore_temp')['name'].tolist()\n",
    "    overlaps.append(len(set(base_top10) & set(temp_top10)))\n",
    "\n",
    "print(\"Average overlap with noise:\", np.mean(overlaps))"
   ]
  },
  {
   "cell_type": "markdown",
   "id": "d0e0b8c6",
   "metadata": {},
   "source": [
    "After running this test multiple times, we see that the result is always around 9, meaning 9/10 times when changing weights, the arrangement of the result is the same. Which also means that the BGI is not heavily biased by those weights. Which ALSO means that the score is reliable. Very Good."
   ]
  },
  {
   "cell_type": "markdown",
   "id": "e23f9d25",
   "metadata": {},
   "source": [
    "### 9. Sanity checks"
   ]
  },
  {
   "cell_type": "code",
   "execution_count": null,
   "id": "5e37a944",
   "metadata": {},
   "outputs": [
    {
     "data": {
      "image/png": "[encoded data removed]",
      "text/plain": [
       "<Figure size 600x400 with 1 Axes>"
      ]
     },
     "metadata": {},
     "output_type": "display_data"
    },
    {
     "data": {
      "image/png": "[encoded data removed]",
      "text/plain": [
       "<Figure size 600x400 with 1 Axes>"
      ]
     },
     "metadata": {},
     "output_type": "display_data"
    },
    {
     "data": {
      "image/png": "[encoded data removed]",
      "text/plain": [
       "<Figure size 600x400 with 1 Axes>"
      ]
     },
     "metadata": {},
     "output_type": "display_data"
    },
    {
     "data": {
      "image/png": "[encoded data removed]",
      "text/plain": [
       "<Figure size 600x400 with 1 Axes>"
      ]
     },
     "metadata": {},
     "output_type": "display_data"
    }
   ],
   "source": [
    "features = ['owners_count', 'retention_score', 'review_score', 'playtime_score']\n",
    "\n",
    "#  Sanity check: feature distributions\n",
    "for f in features:\n",
    "    plt.figure(figsize=(6,4))\n",
    "    sns.histplot(games_norm[f], bins=30, kde=True)\n",
    "    plt.title(f\"Distribution of {f}\")\n",
    "    plt.xlabel(f)\n",
    "    plt.ylabel('Density')\n",
    "    plt.show()"
   ]
  },
  {
   "cell_type": "markdown",
   "id": "64eb70bd",
   "metadata": {},
   "source": [
    "# Sanity Check: Feature Distributions\n",
    "\n",
    "When examining the distributions of the four main features \n",
    "(*owners_count*, *retention_score*, *review_score*, and *playtime_score*), \n",
    "a clear pattern emerges:\n",
    "\n",
    "1. **Heavily Skewed to the Left (Near Zero)**  \n",
    "   All four features show extreme left-skewness, with the overwhelming majority of games sitting very close to zero.  \n",
    "   This indicates that most games have low ownership, poor retention, limited playtime, and weaker review ratios.\n",
    "    \n",
    "2. **Long Tail of Outliers**  \n",
    "   Despite the clustering near zero, there are rare but extreme outliers stretching across the entire range up to $1$.  \n",
    "   These correspond to the exceptional, best-performing games that dominate the market.\n",
    "    \n",
    "3. **Implication for Game Success**  \n",
    "   The distributions reflect the reality of the gaming industry:  \n",
    "   - Most games launch and quickly fade into obscurity.  \n",
    "   - Only a handful break through to reach mass adoption, high retention, and lasting engagement.  \n",
    "\n",
    "In short: the dataset is designed for failure --- most games fail, but the few outliers that succeed are the ones we care about most."
   ]
  },
  {
   "cell_type": "code",
   "execution_count": null,
   "id": "82ae3937",
   "metadata": {},
   "outputs": [
    {
     "data": {
      "image/png": "[encoded data removed]",
      "text/plain": [
       "<Figure size 600x400 with 1 Axes>"
      ]
     },
     "metadata": {},
     "output_type": "display_data"
    },
    {
     "data": {
      "image/png": "[encoded data removed]",
      "text/plain": [
       "<Figure size 600x400 with 1 Axes>"
      ]
     },
     "metadata": {},
     "output_type": "display_data"
    },
    {
     "data": {
      "image/png": "[encoded data removed]",
      "text/plain": [
       "<Figure size 600x400 with 1 Axes>"
      ]
     },
     "metadata": {},
     "output_type": "display_data"
    },
    {
     "data": {
      "image/png": "[encoded data removed]",
      "text/plain": [
       "<Figure size 600x400 with 1 Axes>"
      ]
     },
     "metadata": {},
     "output_type": "display_data"
    }
   ],
   "source": [
    "# Sanity check: feature correlations\n",
    "for f in features:\n",
    "    plt.figure(figsize=(6,4))\n",
    "    sns.scatterplot(x=games_norm[f], y=games_norm['GameScore'], alpha=0.6)\n",
    "    plt.title(f\"GameScore vs {f}\")\n",
    "    plt.xlabel(f)\n",
    "    plt.ylabel('GameScore')\n",
    "    plt.show()\n",
    "\n",
    "# We see that the feature correlations have a linear relationships, with owners_count being sparse/discontinuous"
   ]
  },
  {
   "cell_type": "markdown",
   "id": "7b9bff33",
   "metadata": {},
   "source": [
    "### Sanity Check: Feature Correlations\n",
    "\n",
    "The scatterplots above compare each feature against our final **GameScore** metric. They serve as a sanity check to confirm that the score behaves in line with real-world expectations about what makes a game successful.\n",
    "\n",
    "We observe distinct patterns across the four features:\n",
    "\n",
    "- **Owners count** is extremely skewed: the majority of games have very few owners and correspondingly low GameScores, while only a handful of blockbuster titles stand out with both massive ownership and higher scores. This suggests that ownership mainly separates the runaway hits from the rest, rather than explaining the full distribution.\n",
    "\n",
    "- **Retention score** shows the clearest positive trend. Games with higher retention systematically achieve higher GameScores, confirming that long-term player engagement is one of the strongest signals of success.\n",
    "\n",
    "- **Review score** also contributes positively: better-reviewed games tend to score higher, though the relationship is noisier compared to retention. Reviews help distinguish strong titles from weak ones but are not as consistently predictive.\n",
    "\n",
    "- **Playtime score** behaves similarly to ownership: most games cluster near zero, but a minority with very high playtime achieve higher GameScores. This reflects games that foster deep engagement, even if they are rare.\n",
    "\n",
    "**Key takeaway:**  \n",
    "Not all features drive success in the same way. Retention and reviews provide smoother, more linear contributions to the GameScore, while ownership and playtime primarily highlight the outliers — the blockbuster titles that dominate the market. This distribution reflects the reality of the gaming industry: most games achieve only modest success, while a few exceptional titles capture both the market and player attention.\n"
   ]
  },
  {
   "cell_type": "markdown",
   "id": "7079edd1",
   "metadata": {},
   "source": [
    "### 10. Gradio App which allows you to play with the weights of the equation and see the results in a DataFrame forat and in a Plotly barchart."
   ]
  },
  {
   "cell_type": "code",
   "execution_count": null,
   "id": "cb514551",
   "metadata": {},
   "outputs": [
    {
     "name": "stdout",
     "output_type": "stream",
     "text": [
      "* Running on local URL:  http://127.0.0.1:7860\n",
      "* To create a public link, set `share=True` in `launch()`.\n"
     ]
    },
    {
     "data": {
      "text/html": [
       "<div><iframe src=\"http://127.0.0.1:7860/\" width=\"100%\" height=\"500\" allow=\"autoplay; camera; microphone; clipboard-read; clipboard-write;\" frameborder=\"0\" allowfullscreen></iframe></div>"
      ],
      "text/plain": [
       "<IPython.core.display.HTML object>"
      ]
     },
     "metadata": {},
     "output_type": "display_data"
    }
   ],
   "source": [
    "# To run the app simply use the command:\n",
    "%run ../app.py"
   ]
  },
  {
   "cell_type": "markdown",
   "id": "7d5af380",
   "metadata": {},
   "source": [
    "## 11. Conclusions.\n",
    "\n",
    "Based on some good features we created, we managed to create a BGI based on the most important columns correlating to the game's success.\n",
    "With that BGI and some custom weights we can now rank the games with the best Index and display them.\n",
    "The dataset is far from perfect, with some Cleaning and Engineering we managed to create some good features, and based on the Sensitivity and Sanity checks we were able to prove that the Index does work.\n",
    "\n",
    "Of course there is always room for improvement, some things we can do are:\n",
    "- Experiment with different features and combinations\n",
    "- Experiment with a different formula, weights etc.\n",
    "- Try to pull more data for the games since the APIs don't provide too much\n",
    "- And there are probably a million things I cannot think of right now that can be improved, so whoever reads this, go ahead and experiment!\n",
    "\n",
    "But for now... that's it."
   ]
  }
 ],
 "metadata": {
  "kernelspec": {
   "display_name": "python-3.11",
   "language": "python",
   "name": "python3"
  },
  "language_info": {
   "codemirror_mode": {
    "name": "ipython",
    "version": 3
   },
   "file_extension": ".py",
   "mimetype": "text/x-python",
   "name": "python",
   "nbconvert_exporter": "python",
   "pygments_lexer": "ipython3",
   "version": "3.11.13"
  }
 },
 "nbformat": 4,
 "nbformat_minor": 5
}
