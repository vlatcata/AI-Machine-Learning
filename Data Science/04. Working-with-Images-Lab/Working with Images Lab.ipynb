{
 "cells": [
  {
   "cell_type": "code",
   "execution_count": 1,
   "id": "ecac9c20-e9eb-4b83-b9b3-edd1ec32d57a",
   "metadata": {},
   "outputs": [],
   "source": [
    "import pandas as pd\n",
    "import numpy as np\n",
    "import matplotlib.pyplot as plt\n",
    "import seaborn as sns\n",
    "import hashlib\n",
    "import imagehash\n",
    "from PIL import Image\n",
    "\n",
    "import sys \n",
    "import os\n",
    "from pathlib import Path"
   ]
  },
  {
   "cell_type": "markdown",
   "id": "4f409693-729b-4a8a-b69e-767deb80b648",
   "metadata": {},
   "source": [
    "# Working with Images Lab\n",
    "## Information retrieval, preprocessing, and feature extraction"
   ]
  },
  {
   "cell_type": "markdown",
   "id": "71a328e6-f43f-40c3-abf3-cb650ff59141",
   "metadata": {},
   "source": [
    "In this lab, you'll work with images of felines (cats), which have been classified according to their taxonomy. Each subfolder contains images of a particular species. The dataset is located [here](https://www.kaggle.com/datasets/datahmifitb/felis-taxonomy-image-classification) but it's also provided to you in the `data/` folder."
   ]
  },
  {
   "cell_type": "markdown",
   "id": "2930cdea-105b-4f27-b28f-30323036b6c1",
   "metadata": {},
   "source": [
    "### Problem 1. Some exploration (1 point)\n",
    "How many types of cats are there? How many images do we have of each? What is a typical image size? Are there any outliers in size?"
   ]
  },
  {
   "cell_type": "code",
   "execution_count": 2,
   "id": "72d6fbdb-37b4-4ce4-a3fa-65954c377539",
   "metadata": {},
   "outputs": [
    {
     "name": "stdout",
     "output_type": "stream",
     "text": [
      "7 types of cats\n"
     ]
    }
   ],
   "source": [
    "# To get the type of cats all we need to do is see how many folders we have in the data directory, since they are already classified.\n",
    "\n",
    "entries = os.listdir('./data')\n",
    "print(f'{len(entries)} types of cats')\n",
    "# We see that we have 3 types of cats"
   ]
  },
  {
   "cell_type": "code",
   "execution_count": 3,
   "id": "f49a9dd8",
   "metadata": {},
   "outputs": [
    {
     "data": {
      "text/plain": [
       "{'african-wildcat': 91,\n",
       " 'blackfoot-cat': 79,\n",
       " 'chinese-mountain-cat': 42,\n",
       " 'domestic-cat': 64,\n",
       " 'european-wildcat': 85,\n",
       " 'jungle-cat': 86,\n",
       " 'sand-cat': 72}"
      ]
     },
     "execution_count": 3,
     "metadata": {},
     "output_type": "execute_result"
    }
   ],
   "source": [
    "# To see how many images we have of each we have to iterate trough each folder... I will use Path from pathlib for this.\n",
    "folder_images = {}\n",
    "parent_dir = Path('./data')\n",
    "for subfolder in parent_dir.iterdir():\n",
    "    if subfolder.is_dir():\n",
    "        folder_images[subfolder.name] = len(list(subfolder.glob('*.jpg')))\n",
    "\n",
    "folder_images"
   ]
  },
  {
   "cell_type": "code",
   "execution_count": 4,
   "id": "184b6859",
   "metadata": {},
   "outputs": [
    {
     "data": {
      "text/plain": [
       "np.float64(28696.638427734375)"
      ]
     },
     "execution_count": 4,
     "metadata": {},
     "output_type": "execute_result"
    }
   ],
   "source": [
    "# To see the typical image size I will get all images and get the mean.\n",
    "image_sizes = []\n",
    "for subfolder in parent_dir.iterdir():\n",
    "    if subfolder.is_dir():\n",
    "        for image in subfolder.glob('*.jpg'):\n",
    "            img = plt.imread(image)\n",
    "            # Convert to from bytes to kilobytes\n",
    "            image_sizes.append(img.nbytes / 1024)\n",
    "# Now we get the mean\n",
    "np.mean(image_sizes)\n",
    "# Since the outliers are quite big, we can remove them to get a more realistic mean.\n",
    "image_sizes_cleaned = [size for size in image_sizes if size >= 10000]\n",
    "np.mean(image_sizes_cleaned)\n",
    "\n",
    "# Hm, the size amount seems to be quite a lot bigger than the amounts i see in File Expolorer. Wonder why that it.\n",
    "# After a little research I found that File Explorer shows compressed file sizes, so when we load images in python it gets decompressed into the full array, that's why we see a difference."
   ]
  },
  {
   "cell_type": "code",
   "execution_count": 5,
   "id": "8fd4ea84",
   "metadata": {},
   "outputs": [
    {
     "data": {
      "image/png": "[encoded data removed]",
      "text/plain": [
       "<Figure size 640x480 with 1 Axes>"
      ]
     },
     "metadata": {},
     "output_type": "display_data"
    }
   ],
   "source": [
    "# Now.. to get the outliers, I will create a DataFrame with the image sizes and then use seaborn to visualize it.\n",
    "image_sizes = pd.DataFrame(image_sizes, columns=['image_size_in_kb'])\n",
    "sns.boxplot(image_sizes['image_size_in_kb'])\n",
    "plt.title(\"Boxplot of image sized\")\n",
    "plt.show()\n",
    "\n",
    "# We see that we have some outliers, if it was up to me, I'd say anything above 10000kb is an outlier in this case. Which would mean we have 3 outliers."
   ]
  },
  {
   "cell_type": "markdown",
   "id": "6a54a788-a46a-4683-b78e-6e9c9e25c46d",
   "metadata": {},
   "source": [
    "### Problem 2. Duplicat(e)s (1 point)\n",
    "Find a way to filter out (remove) identical images. I would recommnend using file hashes, but there are many approaches. Keep in mind that during file saving, recompression, etc., a lot of artifacts can change the file content (bytes), but not visually."
   ]
  },
  {
   "cell_type": "code",
   "execution_count": 6,
   "id": "82a8920c-1237-488e-8267-c1f6cadbdb38",
   "metadata": {},
   "outputs": [
    {
     "data": {
      "text/plain": [
       "[]"
      ]
     },
     "execution_count": 6,
     "metadata": {},
     "output_type": "execute_result"
    }
   ],
   "source": [
    "# Let's try using hashes...\n",
    "def hash_file(filepath, algo='sha256'):\n",
    "    hash_func = hashlib.new(algo)\n",
    "    with open(filepath, 'rb') as f:\n",
    "        for chunk in iter(lambda: f.read(4096), b''):\n",
    "            hash_func.update(chunk)\n",
    "    return hash_func.hexdigest()\n",
    "\n",
    "def find_duplicate_images(folder_path):\n",
    "    hashes = {}\n",
    "    duplicates = []\n",
    "\n",
    "    for folder in Path(folder_path).iterdir():\n",
    "        if not folder.is_dir():\n",
    "            continue\n",
    "        for file in folder.glob('*.jpg'):\n",
    "            file_hash = hash_file(file)\n",
    "            if file_hash in hashes:\n",
    "                duplicates.append((file, hashes[file_hash]))\n",
    "            else:\n",
    "                hashes[file_hash] = file\n",
    "\n",
    "        return duplicates\n",
    "\n",
    "duplicates = find_duplicate_images('./data')\n",
    "duplicates # = []\n",
    "\n",
    "# As I thought this wont work because no image is really the same, they all have different filters, watermarks, sizes,. etc.\n"
   ]
  },
  {
   "cell_type": "code",
   "execution_count": 12,
   "id": "aec04a94",
   "metadata": {},
   "outputs": [
    {
     "data": {
      "text/plain": [
       "[('af (32).jpg', 'af (27).jpg'),\n",
       " ('af (37).jpg', 'af (11).jpg'),\n",
       " ('af (47).jpg', 'af (13).jpg'),\n",
       " ('af (51).jpg', 'af (38).jpg'),\n",
       " ('af (61).jpg', 'af (50).jpg'),\n",
       " ('af (74).jpg', 'af (16).jpg'),\n",
       " ('af (76).jpg', 'af (56).jpg'),\n",
       " ('af (9).jpg', 'af (42).jpg'),\n",
       " ('bc (30).jpg', 'bc (24).jpg'),\n",
       " ('bc (53).jpg', 'bc (41).jpg'),\n",
       " ('bc (63).jpg', 'bc (5).jpg'),\n",
       " ('bc (79).jpg', 'bc (73).jpg'),\n",
       " ('bc (9).jpg', 'bc (55).jpg'),\n",
       " ('ch (20).jpg', 'ch (10).jpg'),\n",
       " ('ch (32).jpg', 'ch (29).jpg'),\n",
       " ('ch (39).jpg', 'ch (25).jpg'),\n",
       " ('ch (42).jpg', 'ch (13).jpg'),\n",
       " ('ch (8).jpg', 'ch (4).jpg'),\n",
       " ('ch (9).jpg', 'ch (26).jpg'),\n",
       " ('dc (27).jpg', 'dc (14).jpg'),\n",
       " ('dc (36).jpg', 'dc (14).jpg'),\n",
       " ('dc (42).jpg', 'dc (18).jpg'),\n",
       " ('dc (5).jpg', 'af (69).jpg'),\n",
       " ('dc (52).jpg', 'af (33).jpg'),\n",
       " ('dc (63).jpg', 'af (33).jpg'),\n",
       " ('eu (11).jpg', 'af (33).jpg'),\n",
       " ('eu (23).jpg', 'af (65).jpg'),\n",
       " ('eu (3).jpg', 'eu (26).jpg'),\n",
       " ('eu (32).jpg', 'af (85).jpg'),\n",
       " ('eu (33).jpg', 'af (29).jpg'),\n",
       " ('eu (38).jpg', 'eu (19).jpg'),\n",
       " ('eu (42).jpg', 'eu (31).jpg'),\n",
       " ('eu (47).jpg', 'af (26).jpg'),\n",
       " ('eu (48).jpg', 'eu (28).jpg'),\n",
       " ('eu (5).jpg', 'eu (27).jpg'),\n",
       " ('eu (50).jpg', 'af (68).jpg'),\n",
       " ('eu (51).jpg', 'af (65).jpg'),\n",
       " ('eu (54).jpg', 'eu (27).jpg'),\n",
       " ('eu (55).jpg', 'af (29).jpg'),\n",
       " ('eu (61).jpg', 'eu (40).jpg'),\n",
       " ('eu (62).jpg', 'eu (13).jpg'),\n",
       " ('eu (64).jpg', 'eu (15).jpg'),\n",
       " ('eu (65).jpg', 'eu (37).jpg'),\n",
       " ('eu (67).jpg', 'eu (12).jpg'),\n",
       " ('eu (69).jpg', 'eu (17).jpg'),\n",
       " ('eu (7).jpg', 'af (85).jpg'),\n",
       " ('eu (73).jpg', 'eu (18).jpg'),\n",
       " ('eu (74).jpg', 'af (68).jpg'),\n",
       " ('eu (75).jpg', 'eu (53).jpg'),\n",
       " ('eu (77).jpg', 'eu (22).jpg'),\n",
       " ('eu (78).jpg', 'eu (14).jpg'),\n",
       " ('eu (79).jpg', 'eu (24).jpg'),\n",
       " ('eu (8).jpg', 'eu (66).jpg'),\n",
       " ('eu (80).jpg', 'eu (17).jpg'),\n",
       " ('eu (83).jpg', 'eu (27).jpg'),\n",
       " ('eu (85).jpg', 'eu (25).jpg'),\n",
       " ('eu (9).jpg', 'eu (35).jpg'),\n",
       " ('jg (52).jpg', 'jg (45).jpg'),\n",
       " ('jg (56).jpg', 'jg (32).jpg'),\n",
       " ('jg (68).jpg', 'jg (13).jpg'),\n",
       " ('jg (75).jpg', 'jg (55).jpg'),\n",
       " ('jg (77).jpg', 'jg (72).jpg'),\n",
       " ('jg (82).jpg', 'jg (27).jpg'),\n",
       " ('sd (24).jpg', 'sd (22).jpg'),\n",
       " ('sd (44).jpg', 'sd (21).jpg'),\n",
       " ('sd (47).jpg', 'ch (28).jpg'),\n",
       " ('sd (56).jpg', 'sd (35).jpg'),\n",
       " ('sd (69).jpg', 'sd (2).jpg')]"
      ]
     },
     "execution_count": 12,
     "metadata": {},
     "output_type": "execute_result"
    }
   ],
   "source": [
    "# We will need to change strategy. Let's use perceptual hashing instead, that way we can tell if how similar the pictures need to be, in order for us to consider them duplicates.\n",
    "def find_similar_images(folder_path, hashfunc=imagehash.phash, treshold = 5):\n",
    "    hashes = {}\n",
    "    duplicates = []\n",
    "\n",
    "    for folder in Path(folder_path).iterdir():\n",
    "        if not folder.is_dir():\n",
    "            continue\n",
    "        for file in folder.glob('*.jpg'):\n",
    "            img = Image.open(file)\n",
    "            img_hash = hashfunc(img)\n",
    "\n",
    "            found_duplicates = False\n",
    "            for h, f in hashes.items():\n",
    "                if img_hash - h <= treshold:\n",
    "                    duplicates.append((file.name, f.name))\n",
    "                    found_duplicates = True\n",
    "                    break\n",
    "            if not found_duplicates:\n",
    "                hashes[img_hash] = file\n",
    "    \n",
    "    return duplicates\n",
    "\n",
    "dupes = find_similar_images('./data')\n",
    "dupes\n",
    "\n",
    "# Okay, this time it worked.\n",
    "# The way perceptual hashing works is that the image is being converted ot an 8x8 array of bits. First rezied to 32x32 and then converted to grayscale. We are not looking for details,\n",
    "# we are looking for the general shape of the image, so we can compare it to other images. The treshold is the amount of difference (in bits) we allow between images.\n",
    "# My treshold of 5 means in those 64 bits we allot a difference of 5, which is approximately 7.8% difference."
   ]
  },
  {
   "cell_type": "code",
   "execution_count": null,
   "id": "6cb7b0b2",
   "metadata": {},
   "outputs": [
    {
     "data": {
      "text/plain": [
       "['af (66).jpg', 'ch (37).jpg', 'jg (12).jpg', 'sd (49).jpg']"
      ]
     },
     "execution_count": 18,
     "metadata": {},
     "output_type": "execute_result"
    }
   ],
   "source": [
    "# Now to remove them we will simply tweak the function a little so it removes the file when it is a duplicate instead of adding it to our list.\n",
    "def remove_similar_images(folder_path, hashfunc=imagehash.phash, treshold = 5):\n",
    "    hashes = {}\n",
    "    removed_files = []\n",
    "\n",
    "    for folder in Path(folder_path).iterdir():\n",
    "        if not folder.is_dir():\n",
    "            continue\n",
    "        for file in folder.glob('*.jpg'):\n",
    "            img = Image.open(file)\n",
    "            img_hash = hashfunc(img)\n",
    "\n",
    "            found_duplicates = False\n",
    "            for h, f in hashes.items():\n",
    "                if img_hash - h <= treshold:\n",
    "                    # Here is out change\n",
    "                    os.remove(file)\n",
    "                    removed_files.append(file.name)\n",
    "                    found_duplicates = True\n",
    "                    break\n",
    "            if not found_duplicates:\n",
    "                hashes[img_hash] = file\n",
    "    \n",
    "    return removed_files\n",
    "\n",
    "removed_files = remove_similar_images('./data')\n",
    "removed_files\n",
    "\n",
    "# After removing duplicates I see that we still have some similar images (ones where we have a watermark below) which are not removed, so I will try to increase the treshold a little.\n",
    "removed_files = remove_similar_images('./data', treshold=10)\n",
    "removed_files\n",
    "\n",
    "# Well, seems like perceptual hashing is not good enough to catch watermarks, I will try a different techinique in the future if I have time."
   ]
  },
  {
   "cell_type": "markdown",
   "id": "918359ba-8d97-42c4-82ec-975931ec7fb9",
   "metadata": {},
   "source": [
    "### Problem 3. Loading a model (2 points)\n",
    "Find a suitable, trained convolutional neural network classifier. I recommend `ResNet50` as it's small enough to run well on any machine and powerful enough to make reasonable predictions. Most ready-made classifiers have been trained for 1000 classes.\n",
    "\n",
    "You'll need to install libraries and possibly tinker with configurations for this task. When you're done, display the total number of layers and the total number of parameters. For ResNet50, you should expect around 50 layers and 25M parameters."
   ]
  },
  {
   "cell_type": "code",
   "execution_count": null,
   "id": "2c7d40ed-2f0e-42ea-82cc-e3427c84d061",
   "metadata": {},
   "outputs": [],
   "source": []
  },
  {
   "cell_type": "markdown",
   "id": "9fef6b32-db23-4616-b497-e78a41a1d487",
   "metadata": {},
   "source": [
    "### Problem 4. Prepare the images (1 point)\n",
    "You'll need to prepare the images for passing to the model. To do so, they have to be resized to the same dimensions. Most available models have a specific requirement for sizes. You may need to do additional preprocessing, depending on the model requirements. These requirements should be easily available in the model documentation."
   ]
  },
  {
   "cell_type": "code",
   "execution_count": null,
   "id": "87300cdc-b8b0-4fae-83dc-b0b15639ec71",
   "metadata": {},
   "outputs": [],
   "source": []
  },
  {
   "cell_type": "markdown",
   "id": "d6ade4b3-62ac-4f4e-aa02-3c65dc9ab3d9",
   "metadata": {},
   "source": [
    "### Problem 5. Load the images efficiently (1 point)\n",
    "Now that you've seen how to prepare the images for passing to the model... find a way to do it efficiently. Instead of loading the entire dataset in the RAM, read the images in batches (e.g. 4 images at a time). The goal is to read these, preprocess them, maybe save the preprocessed results in RAM.\n",
    "\n",
    "If you've already done this in one of the previous problems, just skip this one. You'll get your point for it.\n",
    "\n",
    "\\* Even better, save the preprocessed image arrays (they will not be valid .jpg file) as separate files, so you can load them \"lazily\" in the following steps. This is a very common optimization to work with large datasets."
   ]
  },
  {
   "cell_type": "code",
   "execution_count": null,
   "id": "70b660eb-ab73-42f1-8f57-34fff32d6111",
   "metadata": {},
   "outputs": [],
   "source": []
  },
  {
   "cell_type": "markdown",
   "id": "f62f557e-fae0-42f1-aa3b-4402a9be05d2",
   "metadata": {},
   "source": [
    "### Problem 6. Predictions (1 point)\n",
    "Finally, you're ready to get into the meat of the problem. Obtain predictions from your model and evaluate them. This will likely involve manual work to decide how the returned classes relate to the original ones.\n",
    "\n",
    "Create a [confusion matrix](https://en.wikipedia.org/wiki/Confusion_matrix) to evaluate the classification."
   ]
  },
  {
   "cell_type": "code",
   "execution_count": null,
   "id": "96856dec-a4b6-4930-a237-61ec399017d8",
   "metadata": {},
   "outputs": [],
   "source": []
  },
  {
   "cell_type": "markdown",
   "id": "5020f81e-721f-4882-83eb-80379f7a20ac",
   "metadata": {},
   "source": [
    "### Problem 7. Grayscale (1 point)\n",
    "Converting the images to grayscale should affect the classification negatively, as we lose some of the color information.\n",
    "\n",
    "Find a way to preprocess the images to grayscale (using what you already have in Problem 4 and 5), pass them to the model, and compare the classification results to the previous ones."
   ]
  },
  {
   "cell_type": "code",
   "execution_count": null,
   "id": "24421ab0-f30f-447c-a496-80d9aa00cbe5",
   "metadata": {},
   "outputs": [],
   "source": []
  },
  {
   "cell_type": "markdown",
   "id": "e585e663-2f06-4562-8bea-504b3d583c66",
   "metadata": {},
   "source": [
    "### Problem 8. Deep image features (1 point)\n",
    "Find a way to extract one-dimensional vectors (features) for each (non-grayscale) image, using your model. This is typically done by \"short-circuiting\" the model output to be an intermediate layer, while keeping the input the same. \n",
    "\n",
    "In case the outputs (also called feature maps) have different shapes, you can flatten them in different ways. Try to not create huge vectors; the goal is to have a relatively short sequence of numbers which describes each image.\n",
    "\n",
    "You may find a tutorial like [this](https://towardsdatascience.com/exploring-feature-extraction-with-cnns-345125cefc9a) pretty useful but note your implementation will depend on what model (and framework) you've decided to use.\n",
    "\n",
    "It's a good idea to save these as one or more files, so you'll spare yourself a ton of preprocessing."
   ]
  },
  {
   "cell_type": "code",
   "execution_count": null,
   "id": "71347edf-a13b-4683-beb2-af0a093a0cd9",
   "metadata": {},
   "outputs": [],
   "source": []
  },
  {
   "cell_type": "markdown",
   "id": "d9bd0ab0-910a-4dad-9383-011e7d7616e1",
   "metadata": {},
   "source": [
    "### Problem 9. Putting deep image features to use (1 points)\n",
    "Try to find similar images, using a similarity metric on the features you got in the previous problem. Two good metrics are `mean squared error` and `cosine similarity`. How do they work? Can you spot images that look too similar? Can you explain why?\n",
    "\n",
    "\\* If we were to take Fourier features (in a similar manner, these should be a vector of about the same length), how do they compare to the deep features; i.e., which features are better to \"catch\" similar images?"
   ]
  },
  {
   "cell_type": "code",
   "execution_count": null,
   "id": "5276ec7b-7736-4508-99bd-29516464e3f7",
   "metadata": {},
   "outputs": [],
   "source": []
  },
  {
   "cell_type": "markdown",
   "id": "ba16d333-35f0-4b3d-b4b8-3d86cf5cd8b4",
   "metadata": {},
   "source": [
    "### * Problem 10. Explore, predict, and evaluate further\n",
    "You can do a ton of things here, at your desire. For example, how does masking different areas of the image affect classification - a method known as **saliency map** ([info](https://en.wikipedia.org/wiki/Saliency_map))? Can we detect objects? Can we significantly reduce the number of features (keeping the quality) that we get? Can we reliably train a model to predict our own classes? We'll look into these in detail in the future."
   ]
  },
  {
   "cell_type": "code",
   "execution_count": null,
   "id": "f02f1a50-ea32-41ce-9215-77a80c300dbd",
   "metadata": {},
   "outputs": [],
   "source": []
  }
 ],
 "metadata": {
  "kernelspec": {
   "display_name": "snake_game_env",
   "language": "python",
   "name": "python3"
  },
  "language_info": {
   "codemirror_mode": {
    "name": "ipython",
    "version": 3
   },
   "file_extension": ".py",
   "mimetype": "text/x-python",
   "name": "python",
   "nbconvert_exporter": "python",
   "pygments_lexer": "ipython3",
   "version": "3.13.3"
  }
 },
 "nbformat": 4,
 "nbformat_minor": 5
}
