{
 "cells": [
  {
   "cell_type": "markdown",
   "id": "c77f4f0a",
   "metadata": {},
   "source": [
    "Deep Q Learning - Based on a Neural Network\n",
    "Loss function: \n",
    "Q = Quality of action\n",
    "\n",
    "Q(s, a)\n",
    "Where:\n",
    "s = state\n",
    "a = action\n",
    "\n",
    "We use gradient descent to match the predicted Q-values to the result of those actions.\n",
    "The closer we get to 0, the better the model is performing.\n",
    "The goal is for the prediction to always match the result. That is achieved by getting the global minimum.\n",
    "\n",
    "Q(s, a) - Expected cumulative reward from state _s_ by taking action _a_.\n",
    "Q^target(s, a) = R + \\gamma.((max(Q(s', a'))) / 2)\n",
    "\n",
    "\n",
    "Each move the model outputs 3 possible actions.\n",
    "Then the agent picks the one with the highest Q-value.\n",
    "\n",
    "State - A vector of many bool values\n",
    "\n"
   ]
  },
  {
   "cell_type": "markdown",
   "id": "fcb46d15",
   "metadata": {},
   "source": []
  },
  {
   "cell_type": "markdown",
   "id": "6ac8da10",
   "metadata": {},
   "source": [
    "\\[\n",
    "\\gamma = \\frac{1}{2}\n",
    "\\]"
   ]
  },
  {
   "cell_type": "markdown",
   "id": "afc3ba9b",
   "metadata": {},
   "source": []
  }
 ],
 "metadata": {
  "language_info": {
   "name": "python"
  }
 },
 "nbformat": 4,
 "nbformat_minor": 5
}
